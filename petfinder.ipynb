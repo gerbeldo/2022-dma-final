{
  "nbformat": 4,
  "nbformat_minor": 0,
  "metadata": {
    "colab": {
      "name": "petfinder.ipynb",
      "provenance": [],
      "collapsed_sections": [],
      "authorship_tag": "ABX9TyOgpA6I/xrGQg8V/bBT7K0W",
      "include_colab_link": true
    },
    "kernelspec": {
      "name": "python3",
      "display_name": "Python 3"
    },
    "language_info": {
      "name": "python"
    }
  },
  "cells": [
    {
      "cell_type": "markdown",
      "metadata": {
        "id": "view-in-github",
        "colab_type": "text"
      },
      "source": [
        "<a href=\"https://colab.research.google.com/github/gerbeldo/2022-dma-final/blob/main/petfinder.ipynb\" target=\"_parent\"><img src=\"https://colab.research.google.com/assets/colab-badge.svg\" alt=\"Open In Colab\"/></a>"
      ]
    },
    {
      "cell_type": "markdown",
      "source": [
        "# Librerias"
      ],
      "metadata": {
        "id": "54I_GAZfFAhd"
      }
    },
    {
      "cell_type": "code",
      "execution_count": 22,
      "metadata": {
        "id": "b6d0NHepDquE"
      },
      "outputs": [],
      "source": [
        "import numpy as np \n",
        "import pandas as pd \n",
        "import matplotlib.pyplot as plt\n",
        "import seaborn as sns \n",
        "\n",
        "from sklearn.model_selection import train_test_split, KFold\n",
        "from sklearn.metrics import roc_auc_score\n",
        "from lightgbm import LGBMClassifier, plot_metric\n",
        "\n",
        "%matplotlib inline\n",
        "pd.set_option('display.max_columns', 30)\n",
        "plt.rcParams['figure.figsize'] = [12.0, 8.0]"
      ]
    },
    {
      "cell_type": "code",
      "source": [
        "from google.colab import data_table\n",
        "data_table.enable_dataframe_formatter()"
      ],
      "metadata": {
        "id": "k80xbd1zBhsm"
      },
      "execution_count": 23,
      "outputs": []
    },
    {
      "cell_type": "markdown",
      "source": [
        "# Carga de datos"
      ],
      "metadata": {
        "id": "n8SccTwiEDYI"
      }
    },
    {
      "cell_type": "code",
      "source": [
        "data = pd.read_csv(\"https://github.com/gerbeldo/2022-dma-final/blob/main/train.csv.zip?raw=true\", compression = \"zip\")"
      ],
      "metadata": {
        "id": "AkI7gk8tElVD"
      },
      "execution_count": 24,
      "outputs": []
    },
    {
      "cell_type": "markdown",
      "source": [
        "# haciendo la acomodacion"
      ],
      "metadata": {
        "id": "4zJRHlbPEoVs"
      }
    },
    {
      "cell_type": "markdown",
      "source": [
        "## tipos"
      ],
      "metadata": {
        "id": "B1vUHpNfCEyw"
      }
    },
    {
      "cell_type": "code",
      "source": [
        "data = data.astype({'PhotoAmt' : int})"
      ],
      "metadata": {
        "id": "UIARq2RJB_iq"
      },
      "execution_count": 25,
      "outputs": []
    },
    {
      "cell_type": "markdown",
      "source": [
        "## ceros\n",
        "\n",
        "Contamos los ceros y calculamos la proporción en cada columna. En algunas variables, como las `Breed` o `Color` representan valores faltantes. Las variables `Breed2` y `Color3` tienen alta proporción de faltantes, por lo que las eliminamos. La variable `Fee` también tiene muy alta proporción de ceros, pero no son faltantes. Lo mismo con la variable `VideoAmt`."
      ],
      "metadata": {
        "id": "BMn54VHtCG74"
      }
    },
    {
      "cell_type": "code",
      "source": [
        "def count_zeros(array):\n",
        "    n_zeros = sum(array == 0)\n",
        "    prop_zeros = round(n_zeros / len(array), 2)\n",
        "    return [n_zeros, prop_zeros]\n",
        "\n",
        "(data\n",
        " .select_dtypes(include = \"int64\")\n",
        " .apply(count_zeros)\n",
        " .transpose()\n",
        " )"
      ],
      "metadata": {
        "id": "lvvICajZDS7G",
        "outputId": "66ad3f7b-7842-4bee-f560-e45d7d09eac7",
        "colab": {
          "base_uri": "https://localhost:8080/",
          "height": 520
        }
      },
      "execution_count": 26,
      "outputs": [
        {
          "output_type": "execute_result",
          "data": {
            "application/vnd.google.colaboratory.module+javascript": "\n      import \"https://ssl.gstatic.com/colaboratory/data_table/81f25a011006ed3d/data_table.js\";\n\n      window.createDataTable({\n        data: [[\"Type\",\n{\n            'v': 0.0,\n            'f': \"0.0\",\n        },\n{\n            'v': 0.0,\n            'f': \"0.0\",\n        }],\n [\"Age\",\n{\n            'v': 179.0,\n            'f': \"179.0\",\n        },\n{\n            'v': 0.01,\n            'f': \"0.01\",\n        }],\n [\"Breed1\",\n{\n            'v': 5.0,\n            'f': \"5.0\",\n        },\n{\n            'v': 0.0,\n            'f': \"0.0\",\n        }],\n [\"Breed2\",\n{\n            'v': 10762.0,\n            'f': \"10762.0\",\n        },\n{\n            'v': 0.72,\n            'f': \"0.72\",\n        }],\n [\"Gender\",\n{\n            'v': 0.0,\n            'f': \"0.0\",\n        },\n{\n            'v': 0.0,\n            'f': \"0.0\",\n        }],\n [\"Color1\",\n{\n            'v': 0.0,\n            'f': \"0.0\",\n        },\n{\n            'v': 0.0,\n            'f': \"0.0\",\n        }],\n [\"Color2\",\n{\n            'v': 4471.0,\n            'f': \"4471.0\",\n        },\n{\n            'v': 0.3,\n            'f': \"0.3\",\n        }],\n [\"Color3\",\n{\n            'v': 10604.0,\n            'f': \"10604.0\",\n        },\n{\n            'v': 0.71,\n            'f': \"0.71\",\n        }],\n [\"MaturitySize\",\n{\n            'v': 0.0,\n            'f': \"0.0\",\n        },\n{\n            'v': 0.0,\n            'f': \"0.0\",\n        }],\n [\"FurLength\",\n{\n            'v': 0.0,\n            'f': \"0.0\",\n        },\n{\n            'v': 0.0,\n            'f': \"0.0\",\n        }],\n [\"Vaccinated\",\n{\n            'v': 0.0,\n            'f': \"0.0\",\n        },\n{\n            'v': 0.0,\n            'f': \"0.0\",\n        }],\n [\"Dewormed\",\n{\n            'v': 0.0,\n            'f': \"0.0\",\n        },\n{\n            'v': 0.0,\n            'f': \"0.0\",\n        }],\n [\"Sterilized\",\n{\n            'v': 0.0,\n            'f': \"0.0\",\n        },\n{\n            'v': 0.0,\n            'f': \"0.0\",\n        }],\n [\"Health\",\n{\n            'v': 0.0,\n            'f': \"0.0\",\n        },\n{\n            'v': 0.0,\n            'f': \"0.0\",\n        }],\n [\"Quantity\",\n{\n            'v': 0.0,\n            'f': \"0.0\",\n        },\n{\n            'v': 0.0,\n            'f': \"0.0\",\n        }],\n [\"Fee\",\n{\n            'v': 12663.0,\n            'f': \"12663.0\",\n        },\n{\n            'v': 0.84,\n            'f': \"0.84\",\n        }],\n [\"State\",\n{\n            'v': 0.0,\n            'f': \"0.0\",\n        },\n{\n            'v': 0.0,\n            'f': \"0.0\",\n        }],\n [\"VideoAmt\",\n{\n            'v': 14419.0,\n            'f': \"14419.0\",\n        },\n{\n            'v': 0.96,\n            'f': \"0.96\",\n        }],\n [\"PhotoAmt\",\n{\n            'v': 341.0,\n            'f': \"341.0\",\n        },\n{\n            'v': 0.02,\n            'f': \"0.02\",\n        }],\n [\"AdoptionSpeed\",\n{\n            'v': 410.0,\n            'f': \"410.0\",\n        },\n{\n            'v': 0.03,\n            'f': \"0.03\",\n        }]],\n        columns: [[\"string\", \"index\"], [\"number\", \"0\"], [\"number\", \"1\"]],\n        columnOptions: [{\"width\": \"1px\", \"className\": \"index_column\"}],\n        rowsPerPage: 25,\n        helpUrl: \"https://colab.research.google.com/notebooks/data_table.ipynb\",\n        suppressOutputScrolling: true,\n        minimumWidth: undefined,\n      });\n    ",
            "text/html": [
              "\n",
              "  <div id=\"df-2020ba49-5da5-4af1-af4c-036c7ea21cef\">\n",
              "    <div class=\"colab-df-container\">\n",
              "      <div>\n",
              "<style scoped>\n",
              "    .dataframe tbody tr th:only-of-type {\n",
              "        vertical-align: middle;\n",
              "    }\n",
              "\n",
              "    .dataframe tbody tr th {\n",
              "        vertical-align: top;\n",
              "    }\n",
              "\n",
              "    .dataframe thead th {\n",
              "        text-align: right;\n",
              "    }\n",
              "</style>\n",
              "<table border=\"1\" class=\"dataframe\">\n",
              "  <thead>\n",
              "    <tr style=\"text-align: right;\">\n",
              "      <th></th>\n",
              "      <th>0</th>\n",
              "      <th>1</th>\n",
              "    </tr>\n",
              "  </thead>\n",
              "  <tbody>\n",
              "    <tr>\n",
              "      <th>Type</th>\n",
              "      <td>0.0</td>\n",
              "      <td>0.00</td>\n",
              "    </tr>\n",
              "    <tr>\n",
              "      <th>Age</th>\n",
              "      <td>179.0</td>\n",
              "      <td>0.01</td>\n",
              "    </tr>\n",
              "    <tr>\n",
              "      <th>Breed1</th>\n",
              "      <td>5.0</td>\n",
              "      <td>0.00</td>\n",
              "    </tr>\n",
              "    <tr>\n",
              "      <th>Breed2</th>\n",
              "      <td>10762.0</td>\n",
              "      <td>0.72</td>\n",
              "    </tr>\n",
              "    <tr>\n",
              "      <th>Gender</th>\n",
              "      <td>0.0</td>\n",
              "      <td>0.00</td>\n",
              "    </tr>\n",
              "    <tr>\n",
              "      <th>Color1</th>\n",
              "      <td>0.0</td>\n",
              "      <td>0.00</td>\n",
              "    </tr>\n",
              "    <tr>\n",
              "      <th>Color2</th>\n",
              "      <td>4471.0</td>\n",
              "      <td>0.30</td>\n",
              "    </tr>\n",
              "    <tr>\n",
              "      <th>Color3</th>\n",
              "      <td>10604.0</td>\n",
              "      <td>0.71</td>\n",
              "    </tr>\n",
              "    <tr>\n",
              "      <th>MaturitySize</th>\n",
              "      <td>0.0</td>\n",
              "      <td>0.00</td>\n",
              "    </tr>\n",
              "    <tr>\n",
              "      <th>FurLength</th>\n",
              "      <td>0.0</td>\n",
              "      <td>0.00</td>\n",
              "    </tr>\n",
              "    <tr>\n",
              "      <th>Vaccinated</th>\n",
              "      <td>0.0</td>\n",
              "      <td>0.00</td>\n",
              "    </tr>\n",
              "    <tr>\n",
              "      <th>Dewormed</th>\n",
              "      <td>0.0</td>\n",
              "      <td>0.00</td>\n",
              "    </tr>\n",
              "    <tr>\n",
              "      <th>Sterilized</th>\n",
              "      <td>0.0</td>\n",
              "      <td>0.00</td>\n",
              "    </tr>\n",
              "    <tr>\n",
              "      <th>Health</th>\n",
              "      <td>0.0</td>\n",
              "      <td>0.00</td>\n",
              "    </tr>\n",
              "    <tr>\n",
              "      <th>Quantity</th>\n",
              "      <td>0.0</td>\n",
              "      <td>0.00</td>\n",
              "    </tr>\n",
              "    <tr>\n",
              "      <th>Fee</th>\n",
              "      <td>12663.0</td>\n",
              "      <td>0.84</td>\n",
              "    </tr>\n",
              "    <tr>\n",
              "      <th>State</th>\n",
              "      <td>0.0</td>\n",
              "      <td>0.00</td>\n",
              "    </tr>\n",
              "    <tr>\n",
              "      <th>VideoAmt</th>\n",
              "      <td>14419.0</td>\n",
              "      <td>0.96</td>\n",
              "    </tr>\n",
              "    <tr>\n",
              "      <th>PhotoAmt</th>\n",
              "      <td>341.0</td>\n",
              "      <td>0.02</td>\n",
              "    </tr>\n",
              "    <tr>\n",
              "      <th>AdoptionSpeed</th>\n",
              "      <td>410.0</td>\n",
              "      <td>0.03</td>\n",
              "    </tr>\n",
              "  </tbody>\n",
              "</table>\n",
              "</div>\n",
              "      <button class=\"colab-df-convert\" onclick=\"convertToInteractive('df-2020ba49-5da5-4af1-af4c-036c7ea21cef')\"\n",
              "              title=\"Convert this dataframe to an interactive table.\"\n",
              "              style=\"display:none;\">\n",
              "        \n",
              "  <svg xmlns=\"http://www.w3.org/2000/svg\" height=\"24px\"viewBox=\"0 0 24 24\"\n",
              "       width=\"24px\">\n",
              "    <path d=\"M0 0h24v24H0V0z\" fill=\"none\"/>\n",
              "    <path d=\"M18.56 5.44l.94 2.06.94-2.06 2.06-.94-2.06-.94-.94-2.06-.94 2.06-2.06.94zm-11 1L8.5 8.5l.94-2.06 2.06-.94-2.06-.94L8.5 2.5l-.94 2.06-2.06.94zm10 10l.94 2.06.94-2.06 2.06-.94-2.06-.94-.94-2.06-.94 2.06-2.06.94z\"/><path d=\"M17.41 7.96l-1.37-1.37c-.4-.4-.92-.59-1.43-.59-.52 0-1.04.2-1.43.59L10.3 9.45l-7.72 7.72c-.78.78-.78 2.05 0 2.83L4 21.41c.39.39.9.59 1.41.59.51 0 1.02-.2 1.41-.59l7.78-7.78 2.81-2.81c.8-.78.8-2.07 0-2.86zM5.41 20L4 18.59l7.72-7.72 1.47 1.35L5.41 20z\"/>\n",
              "  </svg>\n",
              "      </button>\n",
              "      \n",
              "  <style>\n",
              "    .colab-df-container {\n",
              "      display:flex;\n",
              "      flex-wrap:wrap;\n",
              "      gap: 12px;\n",
              "    }\n",
              "\n",
              "    .colab-df-convert {\n",
              "      background-color: #E8F0FE;\n",
              "      border: none;\n",
              "      border-radius: 50%;\n",
              "      cursor: pointer;\n",
              "      display: none;\n",
              "      fill: #1967D2;\n",
              "      height: 32px;\n",
              "      padding: 0 0 0 0;\n",
              "      width: 32px;\n",
              "    }\n",
              "\n",
              "    .colab-df-convert:hover {\n",
              "      background-color: #E2EBFA;\n",
              "      box-shadow: 0px 1px 2px rgba(60, 64, 67, 0.3), 0px 1px 3px 1px rgba(60, 64, 67, 0.15);\n",
              "      fill: #174EA6;\n",
              "    }\n",
              "\n",
              "    [theme=dark] .colab-df-convert {\n",
              "      background-color: #3B4455;\n",
              "      fill: #D2E3FC;\n",
              "    }\n",
              "\n",
              "    [theme=dark] .colab-df-convert:hover {\n",
              "      background-color: #434B5C;\n",
              "      box-shadow: 0px 1px 3px 1px rgba(0, 0, 0, 0.15);\n",
              "      filter: drop-shadow(0px 1px 2px rgba(0, 0, 0, 0.3));\n",
              "      fill: #FFFFFF;\n",
              "    }\n",
              "  </style>\n",
              "\n",
              "      <script>\n",
              "        const buttonEl =\n",
              "          document.querySelector('#df-2020ba49-5da5-4af1-af4c-036c7ea21cef button.colab-df-convert');\n",
              "        buttonEl.style.display =\n",
              "          google.colab.kernel.accessAllowed ? 'block' : 'none';\n",
              "\n",
              "        async function convertToInteractive(key) {\n",
              "          const element = document.querySelector('#df-2020ba49-5da5-4af1-af4c-036c7ea21cef');\n",
              "          const dataTable =\n",
              "            await google.colab.kernel.invokeFunction('convertToInteractive',\n",
              "                                                     [key], {});\n",
              "          if (!dataTable) return;\n",
              "\n",
              "          const docLinkHtml = 'Like what you see? Visit the ' +\n",
              "            '<a target=\"_blank\" href=https://colab.research.google.com/notebooks/data_table.ipynb>data table notebook</a>'\n",
              "            + ' to learn more about interactive tables.';\n",
              "          element.innerHTML = '';\n",
              "          dataTable['output_type'] = 'display_data';\n",
              "          await google.colab.output.renderOutput(dataTable, element);\n",
              "          const docLink = document.createElement('div');\n",
              "          docLink.innerHTML = docLinkHtml;\n",
              "          element.appendChild(docLink);\n",
              "        }\n",
              "      </script>\n",
              "    </div>\n",
              "  </div>\n",
              "  "
            ],
            "text/plain": [
              "                     0     1\n",
              "Type               0.0  0.00\n",
              "Age              179.0  0.01\n",
              "Breed1             5.0  0.00\n",
              "Breed2         10762.0  0.72\n",
              "Gender             0.0  0.00\n",
              "Color1             0.0  0.00\n",
              "Color2          4471.0  0.30\n",
              "Color3         10604.0  0.71\n",
              "MaturitySize       0.0  0.00\n",
              "FurLength          0.0  0.00\n",
              "Vaccinated         0.0  0.00\n",
              "Dewormed           0.0  0.00\n",
              "Sterilized         0.0  0.00\n",
              "Health             0.0  0.00\n",
              "Quantity           0.0  0.00\n",
              "Fee            12663.0  0.84\n",
              "State              0.0  0.00\n",
              "VideoAmt       14419.0  0.96\n",
              "PhotoAmt         341.0  0.02\n",
              "AdoptionSpeed    410.0  0.03"
            ]
          },
          "metadata": {},
          "execution_count": 26
        }
      ]
    },
    {
      "cell_type": "code",
      "source": [
        "data.drop([\"Breed2\", \"Color3\"], axis = 1, inplace = True)"
      ],
      "metadata": {
        "id": "S3lY99OZCImw"
      },
      "execution_count": 27,
      "outputs": []
    },
    {
      "cell_type": "markdown",
      "source": [
        "## Categóricas\n",
        "\n",
        "Reemplazamos la variable `Name` por una nueva variable numerica `Has_name`, que toma valor 1 cuando la mascota tiene nombre y 0 en caso contrario."
      ],
      "metadata": {
        "id": "1hZ_nQ3_D8-g"
      }
    },
    {
      "cell_type": "code",
      "source": [
        "data['Name'] = data['Name'].fillna('Unnamed')\n",
        "data['Has_name'] = 1\n",
        "data.loc[data['Name'] == 'Unnamed', 'Has_name'] = 0\n",
        "data.drop(\"Name\", axis = 1, inplace = True)"
      ],
      "metadata": {
        "id": "IdjBA90MCfs5"
      },
      "execution_count": 30,
      "outputs": []
    },
    {
      "cell_type": "markdown",
      "source": [
        "Eliminamos la variable `Description` para un primer modelo. Además, eliminamos la variable `PetID` ya que es inutil para la predicción."
      ],
      "metadata": {
        "id": "QGPDUl1MCNWr"
      }
    },
    {
      "cell_type": "code",
      "source": [
        "data.drop([\"Description\", \"PetID\"], axis = 1, inplace = True)"
      ],
      "metadata": {
        "id": "O4bXS-8CCSxI"
      },
      "execution_count": 31,
      "outputs": []
    },
    {
      "cell_type": "code",
      "source": [
        "data.info()"
      ],
      "metadata": {
        "id": "ckI3_MLlFmO6",
        "outputId": "8a01c45f-23a4-48a0-f6ee-b1a5e513712a",
        "colab": {
          "base_uri": "https://localhost:8080/"
        }
      },
      "execution_count": 32,
      "outputs": [
        {
          "output_type": "stream",
          "name": "stdout",
          "text": [
            "<class 'pandas.core.frame.DataFrame'>\n",
            "RangeIndex: 14993 entries, 0 to 14992\n",
            "Data columns (total 20 columns):\n",
            " #   Column         Non-Null Count  Dtype \n",
            "---  ------         --------------  ----- \n",
            " 0   Type           14993 non-null  int64 \n",
            " 1   Age            14993 non-null  int64 \n",
            " 2   Breed1         14993 non-null  int64 \n",
            " 3   Gender         14993 non-null  int64 \n",
            " 4   Color1         14993 non-null  int64 \n",
            " 5   Color2         14993 non-null  int64 \n",
            " 6   MaturitySize   14993 non-null  int64 \n",
            " 7   FurLength      14993 non-null  int64 \n",
            " 8   Vaccinated     14993 non-null  int64 \n",
            " 9   Dewormed       14993 non-null  int64 \n",
            " 10  Sterilized     14993 non-null  int64 \n",
            " 11  Health         14993 non-null  int64 \n",
            " 12  Quantity       14993 non-null  int64 \n",
            " 13  Fee            14993 non-null  int64 \n",
            " 14  State          14993 non-null  int64 \n",
            " 15  RescuerID      14993 non-null  object\n",
            " 16  VideoAmt       14993 non-null  int64 \n",
            " 17  PhotoAmt       14993 non-null  int64 \n",
            " 18  AdoptionSpeed  14993 non-null  int64 \n",
            " 19  Has_name       14993 non-null  int64 \n",
            "dtypes: int64(19), object(1)\n",
            "memory usage: 2.3+ MB\n"
          ]
        }
      ]
    },
    {
      "cell_type": "markdown",
      "source": [
        "# Escala/Normalización\n",
        "\n",
        "Para xgboost no es necesario escalar/normalizar, pero si necesitáramos, serian éstas."
      ],
      "metadata": {
        "id": "rBYAyC7rLt6M"
      }
    },
    {
      "cell_type": "code",
      "source": [
        "#norm_vars = [\"Age\", \"Quantity\", \"Fee\", \"VideoAmt\", \"PhotoAmt\"]"
      ],
      "metadata": {
        "id": "ZeyjRcKdFwek"
      },
      "execution_count": null,
      "outputs": []
    },
    {
      "cell_type": "markdown",
      "source": [
        "# Train/Test split"
      ],
      "metadata": {
        "id": "CaBgVb0cMG5f"
      }
    },
    {
      "cell_type": "code",
      "source": [
        "x_train, x_test, y_train, y_test = train_test_split(data.drop(\"AdoptionSpeed\", axis = 1),\n",
        "                                                    data[\"AdoptionSpeed\"],\n",
        "                                                    test_size = 0.15,\n",
        "                                                    random_state = 42)"
      ],
      "metadata": {
        "id": "XSEXSjheMIiZ"
      },
      "execution_count": 33,
      "outputs": []
    },
    {
      "cell_type": "markdown",
      "source": [
        "# K-fold CV\n",
        "\n",
        "Usamos 10 fold CV en la data de training para entrenar el modelo y optimizar hiperparametros."
      ],
      "metadata": {
        "id": "qv2m6JYhNmAt"
      }
    },
    {
      "cell_type": "code",
      "source": [
        ""
      ],
      "metadata": {
        "id": "ss9lvSgMNyRC"
      },
      "execution_count": null,
      "outputs": []
    }
  ]
}