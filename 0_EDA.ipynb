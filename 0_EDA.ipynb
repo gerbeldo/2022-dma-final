{
  "nbformat": 4,
  "nbformat_minor": 0,
  "metadata": {
    "colab": {
      "name": "0-EDA.ipynb",
      "provenance": [],
      "collapsed_sections": [],
      "authorship_tag": "ABX9TyN9Y8yZIfSXHsVxH6PZlIAD",
      "include_colab_link": true
    },
    "kernelspec": {
      "name": "python3",
      "display_name": "Python 3"
    },
    "language_info": {
      "name": "python"
    }
  },
  "cells": [
    {
      "cell_type": "markdown",
      "metadata": {
        "id": "view-in-github",
        "colab_type": "text"
      },
      "source": [
        "<a href=\"https://colab.research.google.com/github/gerbeldo/2022-dma-final/blob/main/0_EDA.ipynb\" target=\"_parent\"><img src=\"https://colab.research.google.com/assets/colab-badge.svg\" alt=\"Open In Colab\"/></a>"
      ]
    },
    {
      "cell_type": "markdown",
      "source": [
        "# Librerias"
      ],
      "metadata": {
        "id": "54I_GAZfFAhd"
      }
    },
    {
      "cell_type": "code",
      "execution_count": 1,
      "metadata": {
        "id": "b6d0NHepDquE"
      },
      "outputs": [],
      "source": [
        "import numpy as np \n",
        "import pandas as pd \n",
        "import matplotlib.pyplot as plt\n",
        "import seaborn as sns \n",
        "from wordcloud import WordCloud\n",
        "\n",
        "%matplotlib inline\n",
        "pd.set_option('display.max_columns', 30)\n",
        "plt.rcParams['figure.figsize'] = [12.0, 8.0]"
      ]
    },
    {
      "cell_type": "markdown",
      "source": [
        "# Carga de datos"
      ],
      "metadata": {
        "id": "n8SccTwiEDYI"
      }
    },
    {
      "cell_type": "markdown",
      "source": [
        "Cargamos datos de entrenamiento directamente desde el repositorio en github."
      ],
      "metadata": {
        "id": "5lAsgtn6H-FJ"
      }
    },
    {
      "cell_type": "code",
      "source": [
        "train = pd.read_csv(\"https://github.com/gerbeldo/2022-dma-final/blob/main/train.csv.zip?raw=true\", compression = \"zip\")"
      ],
      "metadata": {
        "id": "AkI7gk8tElVD"
      },
      "execution_count": 4,
      "outputs": []
    },
    {
      "cell_type": "markdown",
      "source": [
        "Viendo la forma del DataFrame, vemos que unicamente la columna `Name` tiene datos nulos"
      ],
      "metadata": {
        "id": "ZLaFno8nIpJ4"
      }
    },
    {
      "cell_type": "code",
      "source": [
        "train.info()"
      ],
      "metadata": {
        "colab": {
          "base_uri": "https://localhost:8080/"
        },
        "id": "NLYXm600IZaM",
        "outputId": "51c6385c-0ded-4b22-df81-a0fe67d3cf60"
      },
      "execution_count": 7,
      "outputs": [
        {
          "output_type": "stream",
          "name": "stdout",
          "text": [
            "<class 'pandas.core.frame.DataFrame'>\n",
            "RangeIndex: 14993 entries, 0 to 14992\n",
            "Data columns (total 24 columns):\n",
            " #   Column         Non-Null Count  Dtype  \n",
            "---  ------         --------------  -----  \n",
            " 0   Type           14993 non-null  int64  \n",
            " 1   Name           13736 non-null  object \n",
            " 2   Age            14993 non-null  int64  \n",
            " 3   Breed1         14993 non-null  int64  \n",
            " 4   Breed2         14993 non-null  int64  \n",
            " 5   Gender         14993 non-null  int64  \n",
            " 6   Color1         14993 non-null  int64  \n",
            " 7   Color2         14993 non-null  int64  \n",
            " 8   Color3         14993 non-null  int64  \n",
            " 9   MaturitySize   14993 non-null  int64  \n",
            " 10  FurLength      14993 non-null  int64  \n",
            " 11  Vaccinated     14993 non-null  int64  \n",
            " 12  Dewormed       14993 non-null  int64  \n",
            " 13  Sterilized     14993 non-null  int64  \n",
            " 14  Health         14993 non-null  int64  \n",
            " 15  Quantity       14993 non-null  int64  \n",
            " 16  Fee            14993 non-null  int64  \n",
            " 17  State          14993 non-null  int64  \n",
            " 18  RescuerID      14993 non-null  object \n",
            " 19  VideoAmt       14993 non-null  int64  \n",
            " 20  Description    14981 non-null  object \n",
            " 21  PetID          14993 non-null  object \n",
            " 22  PhotoAmt       14993 non-null  float64\n",
            " 23  AdoptionSpeed  14993 non-null  int64  \n",
            "dtypes: float64(1), int64(19), object(4)\n",
            "memory usage: 2.7+ MB\n"
          ]
        }
      ]
    },
    {
      "cell_type": "code",
      "source": [
        "train['Name'].head"
      ],
      "metadata": {
        "colab": {
          "base_uri": "https://localhost:8080/"
        },
        "id": "IEl-oPUFI7rw",
        "outputId": "135d321c-ef61-464e-de8e-6ea6328c0f71"
      },
      "execution_count": 8,
      "outputs": [
        {
          "output_type": "execute_result",
          "data": {
            "text/plain": [
              "<bound method NDFrame.head of 0                Nibble\n",
              "1           No Name Yet\n",
              "2                Brisco\n",
              "3                  Miko\n",
              "4                Hunter\n",
              "              ...      \n",
              "14988               NaN\n",
              "14989    Serato & Eddie\n",
              "14990           Monkies\n",
              "14991           Ms Daym\n",
              "14992              Fili\n",
              "Name: Name, Length: 14993, dtype: object>"
            ]
          },
          "metadata": {},
          "execution_count": 8
        }
      ]
    }
  ]
}