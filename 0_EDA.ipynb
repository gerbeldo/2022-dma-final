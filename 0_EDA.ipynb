{
  "nbformat": 4,
  "nbformat_minor": 0,
  "metadata": {
    "colab": {
      "name": "0-EDA.ipynb",
      "provenance": [],
      "collapsed_sections": [],
      "toc_visible": true,
      "authorship_tag": "ABX9TyMfQ9FU+sd8+Lftje7QbtWR",
      "include_colab_link": true
    },
    "kernelspec": {
      "name": "python3",
      "display_name": "Python 3"
    },
    "language_info": {
      "name": "python"
    }
  },
  "cells": [
    {
      "cell_type": "markdown",
      "metadata": {
        "id": "view-in-github",
        "colab_type": "text"
      },
      "source": [
        "<a href=\"https://colab.research.google.com/github/gerbeldo/2022-dma-final/blob/main/0_EDA.ipynb\" target=\"_parent\"><img src=\"https://colab.research.google.com/assets/colab-badge.svg\" alt=\"Open In Colab\"/></a>"
      ]
    },
    {
      "cell_type": "markdown",
      "source": [
        "# Librerias"
      ],
      "metadata": {
        "id": "54I_GAZfFAhd"
      }
    },
    {
      "cell_type": "code",
      "execution_count": null,
      "metadata": {
        "id": "b6d0NHepDquE"
      },
      "outputs": [],
      "source": [
        "import numpy as np \n",
        "import pandas as pd \n",
        "import matplotlib.pyplot as plt\n",
        "import seaborn as sns \n",
        "from wordcloud import WordCloud\n",
        "#from IPython.display import display, HTML\n",
        "\n",
        "%matplotlib inline\n",
        "#pd.set_option('display.max_columns', 30)\n",
        "plt.rcParams['figure.figsize'] = [12.0, 8.0]\n",
        "\n"
      ]
    },
    {
      "cell_type": "code",
      "source": [
        "from google.colab import data_table\n",
        "data_table.enable_dataframe_formatter()"
      ],
      "metadata": {
        "id": "YxMX50aJO_94"
      },
      "execution_count": null,
      "outputs": []
    },
    {
      "cell_type": "markdown",
      "source": [
        "# Carga de datos"
      ],
      "metadata": {
        "id": "n8SccTwiEDYI"
      }
    },
    {
      "cell_type": "markdown",
      "source": [
        "Cargamos datos de entrenamiento directamente desde el repositorio en github."
      ],
      "metadata": {
        "id": "5lAsgtn6H-FJ"
      }
    },
    {
      "cell_type": "code",
      "source": [
        "train = pd.read_csv(\"https://github.com/gerbeldo/2022-dma-final/blob/main/train.csv.zip?raw=true\", compression = \"zip\")"
      ],
      "metadata": {
        "id": "AkI7gk8tElVD"
      },
      "execution_count": null,
      "outputs": []
    },
    {
      "cell_type": "markdown",
      "source": [
        "# EDA"
      ],
      "metadata": {
        "id": "hRY-Rx1idlyz"
      }
    },
    {
      "cell_type": "markdown",
      "source": [
        "Viendo la forma del DataFrame, vemos que unicamente la columna `Name` tiene datos nulos"
      ],
      "metadata": {
        "id": "ZLaFno8nIpJ4"
      }
    },
    {
      "cell_type": "code",
      "source": [
        "train.info()"
      ],
      "metadata": {
        "colab": {
          "base_uri": "https://localhost:8080/"
        },
        "id": "NLYXm600IZaM",
        "outputId": "2cf9fcbc-cefc-4c94-8efc-ec990cf5668a"
      },
      "execution_count": null,
      "outputs": [
        {
          "output_type": "stream",
          "name": "stdout",
          "text": [
            "<class 'pandas.core.frame.DataFrame'>\n",
            "RangeIndex: 14993 entries, 0 to 14992\n",
            "Data columns (total 24 columns):\n",
            " #   Column         Non-Null Count  Dtype  \n",
            "---  ------         --------------  -----  \n",
            " 0   Type           14993 non-null  int64  \n",
            " 1   Name           13736 non-null  object \n",
            " 2   Age            14993 non-null  int64  \n",
            " 3   Breed1         14993 non-null  int64  \n",
            " 4   Breed2         14993 non-null  int64  \n",
            " 5   Gender         14993 non-null  int64  \n",
            " 6   Color1         14993 non-null  int64  \n",
            " 7   Color2         14993 non-null  int64  \n",
            " 8   Color3         14993 non-null  int64  \n",
            " 9   MaturitySize   14993 non-null  int64  \n",
            " 10  FurLength      14993 non-null  int64  \n",
            " 11  Vaccinated     14993 non-null  int64  \n",
            " 12  Dewormed       14993 non-null  int64  \n",
            " 13  Sterilized     14993 non-null  int64  \n",
            " 14  Health         14993 non-null  int64  \n",
            " 15  Quantity       14993 non-null  int64  \n",
            " 16  Fee            14993 non-null  int64  \n",
            " 17  State          14993 non-null  int64  \n",
            " 18  RescuerID      14993 non-null  object \n",
            " 19  VideoAmt       14993 non-null  int64  \n",
            " 20  Description    14981 non-null  object \n",
            " 21  PetID          14993 non-null  object \n",
            " 22  PhotoAmt       14993 non-null  float64\n",
            " 23  AdoptionSpeed  14993 non-null  int64  \n",
            "dtypes: float64(1), int64(19), object(4)\n",
            "memory usage: 2.7+ MB\n"
          ]
        }
      ]
    },
    {
      "cell_type": "markdown",
      "source": [
        "## AdoptionSpeed"
      ],
      "metadata": {
        "id": "VhxFpuxSdsmt"
      }
    },
    {
      "cell_type": "markdown",
      "source": [
        "Graficamos histograma de `AdoptionSpeed`; 0 representa la adopcion mas rápida. Vemos que las clases, salvo la velocidad 0 estan razonablemente representadas en el dataset."
      ],
      "metadata": {
        "id": "484K-YgAKKTD"
      }
    },
    {
      "cell_type": "code",
      "source": [
        "(train['AdoptionSpeed']\n",
        "    .value_counts()\n",
        "    .sort_index(ascending = False)\n",
        "    .plot(kind='barh'))\n",
        "\n",
        "plt.title(\"AdoptionSpeed histogram\")"
      ],
      "metadata": {
        "colab": {
          "base_uri": "https://localhost:8080/",
          "height": 517
        },
        "id": "IEl-oPUFI7rw",
        "outputId": "1df36e9f-aaf6-459a-a911-7efe41f1cfb8"
      },
      "execution_count": null,
      "outputs": [
        {
          "output_type": "execute_result",
          "data": {
            "text/plain": [
              "Text(0.5, 1.0, 'AdoptionSpeed histogram')"
            ]
          },
          "metadata": {},
          "execution_count": 6
        },
        {
          "output_type": "display_data",
          "data": {
            "image/png": "[encoded data removed]",
            "text/plain": [
              "<Figure size 864x576 with 1 Axes>"
            ]
          },
          "metadata": {
            "needs_background": "light"
          }
        }
      ]
    },
    {
      "cell_type": "markdown",
      "source": [
        "Separando por tipo de mascota. gatos = 1, perros = 2. Vemos que hay buena representación de ambas especies en cada velocidad. "
      ],
      "metadata": {
        "id": "tikZenlwKItI"
      }
    },
    {
      "cell_type": "code",
      "source": [
        "sns.countplot(x='AdoptionSpeed', data=train, hue='Type');\n",
        "plt.title('Number of cats and dogs by AdoptionSpeed');"
      ],
      "metadata": {
        "colab": {
          "base_uri": "https://localhost:8080/",
          "height": 513
        },
        "id": "cMU-zGKsJu3z",
        "outputId": "e75302e3-e6f2-42f7-90a4-7424869ecbe5"
      },
      "execution_count": null,
      "outputs": [
        {
          "output_type": "display_data",
          "data": {
            "image/png": "[encoded data removed]",
            "text/plain": [
              "<Figure size 864x576 with 1 Axes>"
            ]
          },
          "metadata": {
            "needs_background": "light"
          }
        }
      ]
    },
    {
      "cell_type": "markdown",
      "source": [
        "## PhotoAmt"
      ],
      "metadata": {
        "id": "SnAj9-y8dx9q"
      }
    },
    {
      "cell_type": "markdown",
      "source": [
        "`PhotoAmt` deberia ser una variable int, pero esta representada como float. "
      ],
      "metadata": {
        "id": "AULOUCDzd3aY"
      }
    },
    {
      "cell_type": "code",
      "source": [
        "(train['PhotoAmt']\n",
        " .value_counts()\n",
        " .plot(kind = \"barh\"))"
      ],
      "metadata": {
        "colab": {
          "base_uri": "https://localhost:8080/",
          "height": 501
        },
        "id": "DuiYyLAqeAb1",
        "outputId": "0d729dce-ffcb-4913-831a-bbd05547c16f"
      },
      "execution_count": null,
      "outputs": [
        {
          "output_type": "execute_result",
          "data": {
            "text/plain": [
              "<matplotlib.axes._subplots.AxesSubplot at 0x7ff48c6f3b50>"
            ]
          },
          "metadata": {},
          "execution_count": 8
        },
        {
          "output_type": "display_data",
          "data": {
            "image/png": "[encoded data removed]",
            "text/plain": [
              "<Figure size 864x576 with 1 Axes>"
            ]
          },
          "metadata": {
            "needs_background": "light"
          }
        }
      ]
    },
    {
      "cell_type": "code",
      "source": [
        "train = train.astype({'PhotoAmt' : int})"
      ],
      "metadata": {
        "id": "XTp5_uJ0mP9O"
      },
      "execution_count": null,
      "outputs": []
    },
    {
      "cell_type": "markdown",
      "source": [
        "# Nulos"
      ],
      "metadata": {
        "id": "3kMW70XMMHq0"
      }
    },
    {
      "cell_type": "code",
      "source": [
        "(train\n",
        ".drop(\"Description\", axis = 1)\n",
        ".describe()\n",
        ".transpose()\n",
        ")"
      ],
      "metadata": {
        "colab": {
          "base_uri": "https://localhost:8080/",
          "height": 520
        },
        "id": "kwG2Og1UMJlK",
        "outputId": "46a78d07-5d93-4adc-f720-4a51e0b796ac"
      },
      "execution_count": null,
      "outputs": [
        {
          "output_type": "execute_result",
          "data": {
            "application/vnd.google.colaboratory.module+javascript": "\n      import \"https://ssl.gstatic.com/colaboratory/data_table/81f25a011006ed3d/data_table.js\";\n\n      window.createDataTable({\n        data: [[\"Type\",\n{\n            'v': 14993.0,\n            'f': \"14993.0\",\n        },\n{\n            'v': 1.457613552991396,\n            'f': \"1.457613552991396\",\n        },\n{\n            'v': 0.4982167649048399,\n            'f': \"0.4982167649048399\",\n        },\n{\n            'v': 1.0,\n            'f': \"1.0\",\n        },\n{\n            'v': 1.0,\n            'f': \"1.0\",\n        },\n{\n            'v': 1.0,\n            'f': \"1.0\",\n        },\n{\n            'v': 2.0,\n            'f': \"2.0\",\n        },\n{\n            'v': 2.0,\n            'f': \"2.0\",\n        }],\n [\"Age\",\n{\n            'v': 14993.0,\n            'f': \"14993.0\",\n        },\n{\n            'v': 10.452077636230241,\n            'f': \"10.452077636230241\",\n        },\n{\n            'v': 18.155790407073994,\n            'f': \"18.155790407073994\",\n        },\n{\n            'v': 0.0,\n            'f': \"0.0\",\n        },\n{\n            'v': 2.0,\n            'f': \"2.0\",\n        },\n{\n            'v': 3.0,\n            'f': \"3.0\",\n        },\n{\n            'v': 12.0,\n            'f': \"12.0\",\n        },\n{\n            'v': 255.0,\n            'f': \"255.0\",\n        }],\n [\"Breed1\",\n{\n            'v': 14993.0,\n            'f': \"14993.0\",\n        },\n{\n            'v': 265.27259387714264,\n            'f': \"265.27259387714264\",\n        },\n{\n            'v': 60.05681836409918,\n            'f': \"60.05681836409918\",\n        },\n{\n            'v': 0.0,\n            'f': \"0.0\",\n        },\n{\n            'v': 265.0,\n            'f': \"265.0\",\n        },\n{\n            'v': 266.0,\n            'f': \"266.0\",\n        },\n{\n            'v': 307.0,\n            'f': \"307.0\",\n        },\n{\n            'v': 307.0,\n            'f': \"307.0\",\n        }],\n [\"Breed2\",\n{\n            'v': 14993.0,\n            'f': \"14993.0\",\n        },\n{\n            'v': 74.00973787767624,\n            'f': \"74.00973787767624\",\n        },\n{\n            'v': 123.01157489133564,\n            'f': \"123.01157489133564\",\n        },\n{\n            'v': 0.0,\n            'f': \"0.0\",\n        },\n{\n            'v': 0.0,\n            'f': \"0.0\",\n        },\n{\n            'v': 0.0,\n            'f': \"0.0\",\n        },\n{\n            'v': 179.0,\n            'f': \"179.0\",\n        },\n{\n            'v': 307.0,\n            'f': \"307.0\",\n        }],\n [\"Gender\",\n{\n            'v': 14993.0,\n            'f': \"14993.0\",\n        },\n{\n            'v': 1.776162209030881,\n            'f': \"1.776162209030881\",\n        },\n{\n            'v': 0.6815921026470816,\n            'f': \"0.6815921026470816\",\n        },\n{\n            'v': 1.0,\n            'f': \"1.0\",\n        },\n{\n            'v': 1.0,\n            'f': \"1.0\",\n        },\n{\n            'v': 2.0,\n            'f': \"2.0\",\n        },\n{\n            'v': 2.0,\n            'f': \"2.0\",\n        },\n{\n            'v': 3.0,\n            'f': \"3.0\",\n        }],\n [\"Color1\",\n{\n            'v': 14993.0,\n            'f': \"14993.0\",\n        },\n{\n            'v': 2.2341759487760955,\n            'f': \"2.2341759487760955\",\n        },\n{\n            'v': 1.7452253863429543,\n            'f': \"1.7452253863429543\",\n        },\n{\n            'v': 1.0,\n            'f': \"1.0\",\n        },\n{\n            'v': 1.0,\n            'f': \"1.0\",\n        },\n{\n            'v': 2.0,\n            'f': \"2.0\",\n        },\n{\n            'v': 3.0,\n            'f': \"3.0\",\n        },\n{\n            'v': 7.0,\n            'f': \"7.0\",\n        }],\n [\"Color2\",\n{\n            'v': 14993.0,\n            'f': \"14993.0\",\n        },\n{\n            'v': 3.2228373240845727,\n            'f': \"3.2228373240845727\",\n        },\n{\n            'v': 2.7425617423560413,\n            'f': \"2.7425617423560413\",\n        },\n{\n            'v': 0.0,\n            'f': \"0.0\",\n        },\n{\n            'v': 0.0,\n            'f': \"0.0\",\n        },\n{\n            'v': 2.0,\n            'f': \"2.0\",\n        },\n{\n            'v': 6.0,\n            'f': \"6.0\",\n        },\n{\n            'v': 7.0,\n            'f': \"7.0\",\n        }],\n [\"Color3\",\n{\n            'v': 14993.0,\n            'f': \"14993.0\",\n        },\n{\n            'v': 1.8820116054158607,\n            'f': \"1.8820116054158607\",\n        },\n{\n            'v': 2.98408575247859,\n            'f': \"2.98408575247859\",\n        },\n{\n            'v': 0.0,\n            'f': \"0.0\",\n        },\n{\n            'v': 0.0,\n            'f': \"0.0\",\n        },\n{\n            'v': 0.0,\n            'f': \"0.0\",\n        },\n{\n            'v': 5.0,\n            'f': \"5.0\",\n        },\n{\n            'v': 7.0,\n            'f': \"7.0\",\n        }],\n [\"MaturitySize\",\n{\n            'v': 14993.0,\n            'f': \"14993.0\",\n        },\n{\n            'v': 1.8620022677249384,\n            'f': \"1.8620022677249384\",\n        },\n{\n            'v': 0.5479589256989327,\n            'f': \"0.5479589256989327\",\n        },\n{\n            'v': 1.0,\n            'f': \"1.0\",\n        },\n{\n            'v': 2.0,\n            'f': \"2.0\",\n        },\n{\n            'v': 2.0,\n            'f': \"2.0\",\n        },\n{\n            'v': 2.0,\n            'f': \"2.0\",\n        },\n{\n            'v': 4.0,\n            'f': \"4.0\",\n        }],\n [\"FurLength\",\n{\n            'v': 14993.0,\n            'f': \"14993.0\",\n        },\n{\n            'v': 1.467484826252251,\n            'f': \"1.467484826252251\",\n        },\n{\n            'v': 0.5990698306593272,\n            'f': \"0.5990698306593272\",\n        },\n{\n            'v': 1.0,\n            'f': \"1.0\",\n        },\n{\n            'v': 1.0,\n            'f': \"1.0\",\n        },\n{\n            'v': 1.0,\n            'f': \"1.0\",\n        },\n{\n            'v': 2.0,\n            'f': \"2.0\",\n        },\n{\n            'v': 3.0,\n            'f': \"3.0\",\n        }],\n [\"Vaccinated\",\n{\n            'v': 14993.0,\n            'f': \"14993.0\",\n        },\n{\n            'v': 1.7312078970186087,\n            'f': \"1.7312078970186087\",\n        },\n{\n            'v': 0.6676493026390654,\n            'f': \"0.6676493026390654\",\n        },\n{\n            'v': 1.0,\n            'f': \"1.0\",\n        },\n{\n            'v': 1.0,\n            'f': \"1.0\",\n        },\n{\n            'v': 2.0,\n            'f': \"2.0\",\n        },\n{\n            'v': 2.0,\n            'f': \"2.0\",\n        },\n{\n            'v': 3.0,\n            'f': \"3.0\",\n        }],\n [\"Dewormed\",\n{\n            'v': 14993.0,\n            'f': \"14993.0\",\n        },\n{\n            'v': 1.5587274061228573,\n            'f': \"1.5587274061228573\",\n        },\n{\n            'v': 0.6958167290444458,\n            'f': \"0.6958167290444458\",\n        },\n{\n            'v': 1.0,\n            'f': \"1.0\",\n        },\n{\n            'v': 1.0,\n            'f': \"1.0\",\n        },\n{\n            'v': 1.0,\n            'f': \"1.0\",\n        },\n{\n            'v': 2.0,\n            'f': \"2.0\",\n        },\n{\n            'v': 3.0,\n            'f': \"3.0\",\n        }],\n [\"Sterilized\",\n{\n            'v': 14993.0,\n            'f': \"14993.0\",\n        },\n{\n            'v': 1.9142266390982459,\n            'f': \"1.9142266390982459\",\n        },\n{\n            'v': 0.5661719328460751,\n            'f': \"0.5661719328460751\",\n        },\n{\n            'v': 1.0,\n            'f': \"1.0\",\n        },\n{\n            'v': 2.0,\n            'f': \"2.0\",\n        },\n{\n            'v': 2.0,\n            'f': \"2.0\",\n        },\n{\n            'v': 2.0,\n            'f': \"2.0\",\n        },\n{\n            'v': 3.0,\n            'f': \"3.0\",\n        }],\n [\"Health\",\n{\n            'v': 14993.0,\n            'f': \"14993.0\",\n        },\n{\n            'v': 1.0366170879743881,\n            'f': \"1.0366170879743881\",\n        },\n{\n            'v': 0.199535416031035,\n            'f': \"0.199535416031035\",\n        },\n{\n            'v': 1.0,\n            'f': \"1.0\",\n        },\n{\n            'v': 1.0,\n            'f': \"1.0\",\n        },\n{\n            'v': 1.0,\n            'f': \"1.0\",\n        },\n{\n            'v': 1.0,\n            'f': \"1.0\",\n        },\n{\n            'v': 3.0,\n            'f': \"3.0\",\n        }],\n [\"Quantity\",\n{\n            'v': 14993.0,\n            'f': \"14993.0\",\n        },\n{\n            'v': 1.5760688321216567,\n            'f': \"1.5760688321216567\",\n        },\n{\n            'v': 1.4724772553104168,\n            'f': \"1.4724772553104168\",\n        },\n{\n            'v': 1.0,\n            'f': \"1.0\",\n        },\n{\n            'v': 1.0,\n            'f': \"1.0\",\n        },\n{\n            'v': 1.0,\n            'f': \"1.0\",\n        },\n{\n            'v': 1.0,\n            'f': \"1.0\",\n        },\n{\n            'v': 20.0,\n            'f': \"20.0\",\n        }],\n [\"Fee\",\n{\n            'v': 14993.0,\n            'f': \"14993.0\",\n        },\n{\n            'v': 21.259987994397385,\n            'f': \"21.259987994397385\",\n        },\n{\n            'v': 78.41454767114944,\n            'f': \"78.41454767114944\",\n        },\n{\n            'v': 0.0,\n            'f': \"0.0\",\n        },\n{\n            'v': 0.0,\n            'f': \"0.0\",\n        },\n{\n            'v': 0.0,\n            'f': \"0.0\",\n        },\n{\n            'v': 0.0,\n            'f': \"0.0\",\n        },\n{\n            'v': 3000.0,\n            'f': \"3000.0\",\n        }],\n [\"State\",\n{\n            'v': 14993.0,\n            'f': \"14993.0\",\n        },\n{\n            'v': 41346.02834656173,\n            'f': \"41346.02834656173\",\n        },\n{\n            'v': 32.44415297832453,\n            'f': \"32.44415297832453\",\n        },\n{\n            'v': 41324.0,\n            'f': \"41324.0\",\n        },\n{\n            'v': 41326.0,\n            'f': \"41326.0\",\n        },\n{\n            'v': 41326.0,\n            'f': \"41326.0\",\n        },\n{\n            'v': 41401.0,\n            'f': \"41401.0\",\n        },\n{\n            'v': 41415.0,\n            'f': \"41415.0\",\n        }],\n [\"VideoAmt\",\n{\n            'v': 14993.0,\n            'f': \"14993.0\",\n        },\n{\n            'v': 0.05675982124991663,\n            'f': \"0.05675982124991663\",\n        },\n{\n            'v': 0.34618455020978545,\n            'f': \"0.34618455020978545\",\n        },\n{\n            'v': 0.0,\n            'f': \"0.0\",\n        },\n{\n            'v': 0.0,\n            'f': \"0.0\",\n        },\n{\n            'v': 0.0,\n            'f': \"0.0\",\n        },\n{\n            'v': 0.0,\n            'f': \"0.0\",\n        },\n{\n            'v': 8.0,\n            'f': \"8.0\",\n        }],\n [\"PhotoAmt\",\n{\n            'v': 14993.0,\n            'f': \"14993.0\",\n        },\n{\n            'v': 3.889214966984593,\n            'f': \"3.889214966984593\",\n        },\n{\n            'v': 3.4878102454370605,\n            'f': \"3.4878102454370605\",\n        },\n{\n            'v': 0.0,\n            'f': \"0.0\",\n        },\n{\n            'v': 2.0,\n            'f': \"2.0\",\n        },\n{\n            'v': 3.0,\n            'f': \"3.0\",\n        },\n{\n            'v': 5.0,\n            'f': \"5.0\",\n        },\n{\n            'v': 30.0,\n            'f': \"30.0\",\n        }],\n [\"AdoptionSpeed\",\n{\n            'v': 14993.0,\n            'f': \"14993.0\",\n        },\n{\n            'v': 2.516441005802708,\n            'f': \"2.516441005802708\",\n        },\n{\n            'v': 1.17726476519906,\n            'f': \"1.17726476519906\",\n        },\n{\n            'v': 0.0,\n            'f': \"0.0\",\n        },\n{\n            'v': 2.0,\n            'f': \"2.0\",\n        },\n{\n            'v': 2.0,\n            'f': \"2.0\",\n        },\n{\n            'v': 4.0,\n            'f': \"4.0\",\n        },\n{\n            'v': 4.0,\n            'f': \"4.0\",\n        }]],\n        columns: [[\"string\", \"index\"], [\"number\", \"count\"], [\"number\", \"mean\"], [\"number\", \"std\"], [\"number\", \"min\"], [\"number\", \"25%\"], [\"number\", \"50%\"], [\"number\", \"75%\"], [\"number\", \"max\"]],\n        columnOptions: [{\"width\": \"1px\", \"className\": \"index_column\"}],\n        rowsPerPage: 25,\n        helpUrl: \"https://colab.research.google.com/notebooks/data_table.ipynb\",\n        suppressOutputScrolling: true,\n        minimumWidth: undefined,\n      });\n    ",
            "text/html": [
              "\n",
              "  <div id=\"df-0f4c85c4-ffae-46fe-9b8b-ed03be8b747b\">\n",
              "    <div class=\"colab-df-container\">\n",
              "      <div>\n",
              "<style scoped>\n",
              "    .dataframe tbody tr th:only-of-type {\n",
              "        vertical-align: middle;\n",
              "    }\n",
              "\n",
              "    .dataframe tbody tr th {\n",
              "        vertical-align: top;\n",
              "    }\n",
              "\n",
              "    .dataframe thead th {\n",
              "        text-align: right;\n",
              "    }\n",
              "</style>\n",
              "<table border=\"1\" class=\"dataframe\">\n",
              "  <thead>\n",
              "    <tr style=\"text-align: right;\">\n",
              "      <th></th>\n",
              "      <th>count</th>\n",
              "      <th>mean</th>\n",
              "      <th>std</th>\n",
              "      <th>min</th>\n",
              "      <th>25%</th>\n",
              "      <th>50%</th>\n",
              "      <th>75%</th>\n",
              "      <th>max</th>\n",
              "    </tr>\n",
              "  </thead>\n",
              "  <tbody>\n",
              "    <tr>\n",
              "      <th>Type</th>\n",
              "      <td>14993.0</td>\n",
              "      <td>1.457614</td>\n",
              "      <td>0.498217</td>\n",
              "      <td>1.0</td>\n",
              "      <td>1.0</td>\n",
              "      <td>1.0</td>\n",
              "      <td>2.0</td>\n",
              "      <td>2.0</td>\n",
              "    </tr>\n",
              "    <tr>\n",
              "      <th>Age</th>\n",
              "      <td>14993.0</td>\n",
              "      <td>10.452078</td>\n",
              "      <td>18.155790</td>\n",
              "      <td>0.0</td>\n",
              "      <td>2.0</td>\n",
              "      <td>3.0</td>\n",
              "      <td>12.0</td>\n",
              "      <td>255.0</td>\n",
              "    </tr>\n",
              "    <tr>\n",
              "      <th>Breed1</th>\n",
              "      <td>14993.0</td>\n",
              "      <td>265.272594</td>\n",
              "      <td>60.056818</td>\n",
              "      <td>0.0</td>\n",
              "      <td>265.0</td>\n",
              "      <td>266.0</td>\n",
              "      <td>307.0</td>\n",
              "      <td>307.0</td>\n",
              "    </tr>\n",
              "    <tr>\n",
              "      <th>Breed2</th>\n",
              "      <td>14993.0</td>\n",
              "      <td>74.009738</td>\n",
              "      <td>123.011575</td>\n",
              "      <td>0.0</td>\n",
              "      <td>0.0</td>\n",
              "      <td>0.0</td>\n",
              "      <td>179.0</td>\n",
              "      <td>307.0</td>\n",
              "    </tr>\n",
              "    <tr>\n",
              "      <th>Gender</th>\n",
              "      <td>14993.0</td>\n",
              "      <td>1.776162</td>\n",
              "      <td>0.681592</td>\n",
              "      <td>1.0</td>\n",
              "      <td>1.0</td>\n",
              "      <td>2.0</td>\n",
              "      <td>2.0</td>\n",
              "      <td>3.0</td>\n",
              "    </tr>\n",
              "    <tr>\n",
              "      <th>Color1</th>\n",
              "      <td>14993.0</td>\n",
              "      <td>2.234176</td>\n",
              "      <td>1.745225</td>\n",
              "      <td>1.0</td>\n",
              "      <td>1.0</td>\n",
              "      <td>2.0</td>\n",
              "      <td>3.0</td>\n",
              "      <td>7.0</td>\n",
              "    </tr>\n",
              "    <tr>\n",
              "      <th>Color2</th>\n",
              "      <td>14993.0</td>\n",
              "      <td>3.222837</td>\n",
              "      <td>2.742562</td>\n",
              "      <td>0.0</td>\n",
              "      <td>0.0</td>\n",
              "      <td>2.0</td>\n",
              "      <td>6.0</td>\n",
              "      <td>7.0</td>\n",
              "    </tr>\n",
              "    <tr>\n",
              "      <th>Color3</th>\n",
              "      <td>14993.0</td>\n",
              "      <td>1.882012</td>\n",
              "      <td>2.984086</td>\n",
              "      <td>0.0</td>\n",
              "      <td>0.0</td>\n",
              "      <td>0.0</td>\n",
              "      <td>5.0</td>\n",
              "      <td>7.0</td>\n",
              "    </tr>\n",
              "    <tr>\n",
              "      <th>MaturitySize</th>\n",
              "      <td>14993.0</td>\n",
              "      <td>1.862002</td>\n",
              "      <td>0.547959</td>\n",
              "      <td>1.0</td>\n",
              "      <td>2.0</td>\n",
              "      <td>2.0</td>\n",
              "      <td>2.0</td>\n",
              "      <td>4.0</td>\n",
              "    </tr>\n",
              "    <tr>\n",
              "      <th>FurLength</th>\n",
              "      <td>14993.0</td>\n",
              "      <td>1.467485</td>\n",
              "      <td>0.599070</td>\n",
              "      <td>1.0</td>\n",
              "      <td>1.0</td>\n",
              "      <td>1.0</td>\n",
              "      <td>2.0</td>\n",
              "      <td>3.0</td>\n",
              "    </tr>\n",
              "    <tr>\n",
              "      <th>Vaccinated</th>\n",
              "      <td>14993.0</td>\n",
              "      <td>1.731208</td>\n",
              "      <td>0.667649</td>\n",
              "      <td>1.0</td>\n",
              "      <td>1.0</td>\n",
              "      <td>2.0</td>\n",
              "      <td>2.0</td>\n",
              "      <td>3.0</td>\n",
              "    </tr>\n",
              "    <tr>\n",
              "      <th>Dewormed</th>\n",
              "      <td>14993.0</td>\n",
              "      <td>1.558727</td>\n",
              "      <td>0.695817</td>\n",
              "      <td>1.0</td>\n",
              "      <td>1.0</td>\n",
              "      <td>1.0</td>\n",
              "      <td>2.0</td>\n",
              "      <td>3.0</td>\n",
              "    </tr>\n",
              "    <tr>\n",
              "      <th>Sterilized</th>\n",
              "      <td>14993.0</td>\n",
              "      <td>1.914227</td>\n",
              "      <td>0.566172</td>\n",
              "      <td>1.0</td>\n",
              "      <td>2.0</td>\n",
              "      <td>2.0</td>\n",
              "      <td>2.0</td>\n",
              "      <td>3.0</td>\n",
              "    </tr>\n",
              "    <tr>\n",
              "      <th>Health</th>\n",
              "      <td>14993.0</td>\n",
              "      <td>1.036617</td>\n",
              "      <td>0.199535</td>\n",
              "      <td>1.0</td>\n",
              "      <td>1.0</td>\n",
              "      <td>1.0</td>\n",
              "      <td>1.0</td>\n",
              "      <td>3.0</td>\n",
              "    </tr>\n",
              "    <tr>\n",
              "      <th>Quantity</th>\n",
              "      <td>14993.0</td>\n",
              "      <td>1.576069</td>\n",
              "      <td>1.472477</td>\n",
              "      <td>1.0</td>\n",
              "      <td>1.0</td>\n",
              "      <td>1.0</td>\n",
              "      <td>1.0</td>\n",
              "      <td>20.0</td>\n",
              "    </tr>\n",
              "    <tr>\n",
              "      <th>Fee</th>\n",
              "      <td>14993.0</td>\n",
              "      <td>21.259988</td>\n",
              "      <td>78.414548</td>\n",
              "      <td>0.0</td>\n",
              "      <td>0.0</td>\n",
              "      <td>0.0</td>\n",
              "      <td>0.0</td>\n",
              "      <td>3000.0</td>\n",
              "    </tr>\n",
              "    <tr>\n",
              "      <th>State</th>\n",
              "      <td>14993.0</td>\n",
              "      <td>41346.028347</td>\n",
              "      <td>32.444153</td>\n",
              "      <td>41324.0</td>\n",
              "      <td>41326.0</td>\n",
              "      <td>41326.0</td>\n",
              "      <td>41401.0</td>\n",
              "      <td>41415.0</td>\n",
              "    </tr>\n",
              "    <tr>\n",
              "      <th>VideoAmt</th>\n",
              "      <td>14993.0</td>\n",
              "      <td>0.056760</td>\n",
              "      <td>0.346185</td>\n",
              "      <td>0.0</td>\n",
              "      <td>0.0</td>\n",
              "      <td>0.0</td>\n",
              "      <td>0.0</td>\n",
              "      <td>8.0</td>\n",
              "    </tr>\n",
              "    <tr>\n",
              "      <th>PhotoAmt</th>\n",
              "      <td>14993.0</td>\n",
              "      <td>3.889215</td>\n",
              "      <td>3.487810</td>\n",
              "      <td>0.0</td>\n",
              "      <td>2.0</td>\n",
              "      <td>3.0</td>\n",
              "      <td>5.0</td>\n",
              "      <td>30.0</td>\n",
              "    </tr>\n",
              "    <tr>\n",
              "      <th>AdoptionSpeed</th>\n",
              "      <td>14993.0</td>\n",
              "      <td>2.516441</td>\n",
              "      <td>1.177265</td>\n",
              "      <td>0.0</td>\n",
              "      <td>2.0</td>\n",
              "      <td>2.0</td>\n",
              "      <td>4.0</td>\n",
              "      <td>4.0</td>\n",
              "    </tr>\n",
              "  </tbody>\n",
              "</table>\n",
              "</div>\n",
              "      <button class=\"colab-df-convert\" onclick=\"convertToInteractive('df-0f4c85c4-ffae-46fe-9b8b-ed03be8b747b')\"\n",
              "              title=\"Convert this dataframe to an interactive table.\"\n",
              "              style=\"display:none;\">\n",
              "        \n",
              "  <svg xmlns=\"http://www.w3.org/2000/svg\" height=\"24px\"viewBox=\"0 0 24 24\"\n",
              "       width=\"24px\">\n",
              "    <path d=\"M0 0h24v24H0V0z\" fill=\"none\"/>\n",
              "    <path d=\"M18.56 5.44l.94 2.06.94-2.06 2.06-.94-2.06-.94-.94-2.06-.94 2.06-2.06.94zm-11 1L8.5 8.5l.94-2.06 2.06-.94-2.06-.94L8.5 2.5l-.94 2.06-2.06.94zm10 10l.94 2.06.94-2.06 2.06-.94-2.06-.94-.94-2.06-.94 2.06-2.06.94z\"/><path d=\"M17.41 7.96l-1.37-1.37c-.4-.4-.92-.59-1.43-.59-.52 0-1.04.2-1.43.59L10.3 9.45l-7.72 7.72c-.78.78-.78 2.05 0 2.83L4 21.41c.39.39.9.59 1.41.59.51 0 1.02-.2 1.41-.59l7.78-7.78 2.81-2.81c.8-.78.8-2.07 0-2.86zM5.41 20L4 18.59l7.72-7.72 1.47 1.35L5.41 20z\"/>\n",
              "  </svg>\n",
              "      </button>\n",
              "      \n",
              "  <style>\n",
              "    .colab-df-container {\n",
              "      display:flex;\n",
              "      flex-wrap:wrap;\n",
              "      gap: 12px;\n",
              "    }\n",
              "\n",
              "    .colab-df-convert {\n",
              "      background-color: #E8F0FE;\n",
              "      border: none;\n",
              "      border-radius: 50%;\n",
              "      cursor: pointer;\n",
              "      display: none;\n",
              "      fill: #1967D2;\n",
              "      height: 32px;\n",
              "      padding: 0 0 0 0;\n",
              "      width: 32px;\n",
              "    }\n",
              "\n",
              "    .colab-df-convert:hover {\n",
              "      background-color: #E2EBFA;\n",
              "      box-shadow: 0px 1px 2px rgba(60, 64, 67, 0.3), 0px 1px 3px 1px rgba(60, 64, 67, 0.15);\n",
              "      fill: #174EA6;\n",
              "    }\n",
              "\n",
              "    [theme=dark] .colab-df-convert {\n",
              "      background-color: #3B4455;\n",
              "      fill: #D2E3FC;\n",
              "    }\n",
              "\n",
              "    [theme=dark] .colab-df-convert:hover {\n",
              "      background-color: #434B5C;\n",
              "      box-shadow: 0px 1px 3px 1px rgba(0, 0, 0, 0.15);\n",
              "      filter: drop-shadow(0px 1px 2px rgba(0, 0, 0, 0.3));\n",
              "      fill: #FFFFFF;\n",
              "    }\n",
              "  </style>\n",
              "\n",
              "      <script>\n",
              "        const buttonEl =\n",
              "          document.querySelector('#df-0f4c85c4-ffae-46fe-9b8b-ed03be8b747b button.colab-df-convert');\n",
              "        buttonEl.style.display =\n",
              "          google.colab.kernel.accessAllowed ? 'block' : 'none';\n",
              "\n",
              "        async function convertToInteractive(key) {\n",
              "          const element = document.querySelector('#df-0f4c85c4-ffae-46fe-9b8b-ed03be8b747b');\n",
              "          const dataTable =\n",
              "            await google.colab.kernel.invokeFunction('convertToInteractive',\n",
              "                                                     [key], {});\n",
              "          if (!dataTable) return;\n",
              "\n",
              "          const docLinkHtml = 'Like what you see? Visit the ' +\n",
              "            '<a target=\"_blank\" href=https://colab.research.google.com/notebooks/data_table.ipynb>data table notebook</a>'\n",
              "            + ' to learn more about interactive tables.';\n",
              "          element.innerHTML = '';\n",
              "          dataTable['output_type'] = 'display_data';\n",
              "          await google.colab.output.renderOutput(dataTable, element);\n",
              "          const docLink = document.createElement('div');\n",
              "          docLink.innerHTML = docLinkHtml;\n",
              "          element.appendChild(docLink);\n",
              "        }\n",
              "      </script>\n",
              "    </div>\n",
              "  </div>\n",
              "  "
            ],
            "text/plain": [
              "                 count          mean         std  ...      50%      75%      max\n",
              "Type           14993.0      1.457614    0.498217  ...      1.0      2.0      2.0\n",
              "Age            14993.0     10.452078   18.155790  ...      3.0     12.0    255.0\n",
              "Breed1         14993.0    265.272594   60.056818  ...    266.0    307.0    307.0\n",
              "Breed2         14993.0     74.009738  123.011575  ...      0.0    179.0    307.0\n",
              "Gender         14993.0      1.776162    0.681592  ...      2.0      2.0      3.0\n",
              "Color1         14993.0      2.234176    1.745225  ...      2.0      3.0      7.0\n",
              "Color2         14993.0      3.222837    2.742562  ...      2.0      6.0      7.0\n",
              "Color3         14993.0      1.882012    2.984086  ...      0.0      5.0      7.0\n",
              "MaturitySize   14993.0      1.862002    0.547959  ...      2.0      2.0      4.0\n",
              "FurLength      14993.0      1.467485    0.599070  ...      1.0      2.0      3.0\n",
              "Vaccinated     14993.0      1.731208    0.667649  ...      2.0      2.0      3.0\n",
              "Dewormed       14993.0      1.558727    0.695817  ...      1.0      2.0      3.0\n",
              "Sterilized     14993.0      1.914227    0.566172  ...      2.0      2.0      3.0\n",
              "Health         14993.0      1.036617    0.199535  ...      1.0      1.0      3.0\n",
              "Quantity       14993.0      1.576069    1.472477  ...      1.0      1.0     20.0\n",
              "Fee            14993.0     21.259988   78.414548  ...      0.0      0.0   3000.0\n",
              "State          14993.0  41346.028347   32.444153  ...  41326.0  41401.0  41415.0\n",
              "VideoAmt       14993.0      0.056760    0.346185  ...      0.0      0.0      8.0\n",
              "PhotoAmt       14993.0      3.889215    3.487810  ...      3.0      5.0     30.0\n",
              "AdoptionSpeed  14993.0      2.516441    1.177265  ...      2.0      4.0      4.0\n",
              "\n",
              "[20 rows x 8 columns]"
            ]
          },
          "metadata": {},
          "execution_count": 10
        }
      ]
    },
    {
      "cell_type": "markdown",
      "source": [
        "Contamos los ceros y calculamos la proporcion en cada columna. En algunas variables, como las `Breed` o `Color` representan valores faltantes. Las variables `Breed2` y `Color3` tienen alta proporcion de faltantes, por lo que las eliminamos. La variable `Fee` tambien tiene muy alta proporcion de ceros, pero no son faltantes. Lo mismo con la variable `VideoAmt`."
      ],
      "metadata": {
        "id": "iaH77wJ1nvy2"
      }
    },
    {
      "cell_type": "code",
      "source": [
        "def count_zeros(array):\n",
        "    n_zeros = sum(array == 0)\n",
        "    prop_zeros = round(n_zeros / len(array), 2)\n",
        "    return [n_zeros, prop_zeros]\n",
        "\n",
        "(train\n",
        " .select_dtypes(include = \"int64\")\n",
        " .apply(count_zeros)\n",
        " .transpose()\n",
        " )\n"
      ],
      "metadata": {
        "colab": {
          "base_uri": "https://localhost:8080/",
          "height": 477
        },
        "id": "cGl9aLn_Y9Lt",
        "outputId": "7c59f77b-e4b2-456a-b7d4-14ec776a2f1c"
      },
      "execution_count": null,
      "outputs": [
        {
          "output_type": "execute_result",
          "data": {
            "application/vnd.google.colaboratory.module+javascript": "\n      import \"https://ssl.gstatic.com/colaboratory/data_table/81f25a011006ed3d/data_table.js\";\n\n      window.createDataTable({\n        data: [[\"Type\",\n{\n            'v': 0.0,\n            'f': \"0.0\",\n        },\n{\n            'v': 0.0,\n            'f': \"0.0\",\n        }],\n [\"Age\",\n{\n            'v': 179.0,\n            'f': \"179.0\",\n        },\n{\n            'v': 0.01,\n            'f': \"0.01\",\n        }],\n [\"Breed1\",\n{\n            'v': 5.0,\n            'f': \"5.0\",\n        },\n{\n            'v': 0.0,\n            'f': \"0.0\",\n        }],\n [\"Gender\",\n{\n            'v': 0.0,\n            'f': \"0.0\",\n        },\n{\n            'v': 0.0,\n            'f': \"0.0\",\n        }],\n [\"Color1\",\n{\n            'v': 0.0,\n            'f': \"0.0\",\n        },\n{\n            'v': 0.0,\n            'f': \"0.0\",\n        }],\n [\"Color2\",\n{\n            'v': 4471.0,\n            'f': \"4471.0\",\n        },\n{\n            'v': 0.3,\n            'f': \"0.3\",\n        }],\n [\"MaturitySize\",\n{\n            'v': 0.0,\n            'f': \"0.0\",\n        },\n{\n            'v': 0.0,\n            'f': \"0.0\",\n        }],\n [\"FurLength\",\n{\n            'v': 0.0,\n            'f': \"0.0\",\n        },\n{\n            'v': 0.0,\n            'f': \"0.0\",\n        }],\n [\"Vaccinated\",\n{\n            'v': 0.0,\n            'f': \"0.0\",\n        },\n{\n            'v': 0.0,\n            'f': \"0.0\",\n        }],\n [\"Dewormed\",\n{\n            'v': 0.0,\n            'f': \"0.0\",\n        },\n{\n            'v': 0.0,\n            'f': \"0.0\",\n        }],\n [\"Sterilized\",\n{\n            'v': 0.0,\n            'f': \"0.0\",\n        },\n{\n            'v': 0.0,\n            'f': \"0.0\",\n        }],\n [\"Health\",\n{\n            'v': 0.0,\n            'f': \"0.0\",\n        },\n{\n            'v': 0.0,\n            'f': \"0.0\",\n        }],\n [\"Quantity\",\n{\n            'v': 0.0,\n            'f': \"0.0\",\n        },\n{\n            'v': 0.0,\n            'f': \"0.0\",\n        }],\n [\"Fee\",\n{\n            'v': 12663.0,\n            'f': \"12663.0\",\n        },\n{\n            'v': 0.84,\n            'f': \"0.84\",\n        }],\n [\"State\",\n{\n            'v': 0.0,\n            'f': \"0.0\",\n        },\n{\n            'v': 0.0,\n            'f': \"0.0\",\n        }],\n [\"VideoAmt\",\n{\n            'v': 14419.0,\n            'f': \"14419.0\",\n        },\n{\n            'v': 0.96,\n            'f': \"0.96\",\n        }],\n [\"PhotoAmt\",\n{\n            'v': 341.0,\n            'f': \"341.0\",\n        },\n{\n            'v': 0.02,\n            'f': \"0.02\",\n        }],\n [\"AdoptionSpeed\",\n{\n            'v': 410.0,\n            'f': \"410.0\",\n        },\n{\n            'v': 0.03,\n            'f': \"0.03\",\n        }]],\n        columns: [[\"string\", \"index\"], [\"number\", \"0\"], [\"number\", \"1\"]],\n        columnOptions: [{\"width\": \"1px\", \"className\": \"index_column\"}],\n        rowsPerPage: 25,\n        helpUrl: \"https://colab.research.google.com/notebooks/data_table.ipynb\",\n        suppressOutputScrolling: true,\n        minimumWidth: undefined,\n      });\n    ",
            "text/html": [
              "\n",
              "  <div id=\"df-aff2193d-7309-4934-b103-0fbb944385b6\">\n",
              "    <div class=\"colab-df-container\">\n",
              "      <div>\n",
              "<style scoped>\n",
              "    .dataframe tbody tr th:only-of-type {\n",
              "        vertical-align: middle;\n",
              "    }\n",
              "\n",
              "    .dataframe tbody tr th {\n",
              "        vertical-align: top;\n",
              "    }\n",
              "\n",
              "    .dataframe thead th {\n",
              "        text-align: right;\n",
              "    }\n",
              "</style>\n",
              "<table border=\"1\" class=\"dataframe\">\n",
              "  <thead>\n",
              "    <tr style=\"text-align: right;\">\n",
              "      <th></th>\n",
              "      <th>0</th>\n",
              "      <th>1</th>\n",
              "    </tr>\n",
              "  </thead>\n",
              "  <tbody>\n",
              "    <tr>\n",
              "      <th>Type</th>\n",
              "      <td>0.0</td>\n",
              "      <td>0.00</td>\n",
              "    </tr>\n",
              "    <tr>\n",
              "      <th>Age</th>\n",
              "      <td>179.0</td>\n",
              "      <td>0.01</td>\n",
              "    </tr>\n",
              "    <tr>\n",
              "      <th>Breed1</th>\n",
              "      <td>5.0</td>\n",
              "      <td>0.00</td>\n",
              "    </tr>\n",
              "    <tr>\n",
              "      <th>Gender</th>\n",
              "      <td>0.0</td>\n",
              "      <td>0.00</td>\n",
              "    </tr>\n",
              "    <tr>\n",
              "      <th>Color1</th>\n",
              "      <td>0.0</td>\n",
              "      <td>0.00</td>\n",
              "    </tr>\n",
              "    <tr>\n",
              "      <th>Color2</th>\n",
              "      <td>4471.0</td>\n",
              "      <td>0.30</td>\n",
              "    </tr>\n",
              "    <tr>\n",
              "      <th>MaturitySize</th>\n",
              "      <td>0.0</td>\n",
              "      <td>0.00</td>\n",
              "    </tr>\n",
              "    <tr>\n",
              "      <th>FurLength</th>\n",
              "      <td>0.0</td>\n",
              "      <td>0.00</td>\n",
              "    </tr>\n",
              "    <tr>\n",
              "      <th>Vaccinated</th>\n",
              "      <td>0.0</td>\n",
              "      <td>0.00</td>\n",
              "    </tr>\n",
              "    <tr>\n",
              "      <th>Dewormed</th>\n",
              "      <td>0.0</td>\n",
              "      <td>0.00</td>\n",
              "    </tr>\n",
              "    <tr>\n",
              "      <th>Sterilized</th>\n",
              "      <td>0.0</td>\n",
              "      <td>0.00</td>\n",
              "    </tr>\n",
              "    <tr>\n",
              "      <th>Health</th>\n",
              "      <td>0.0</td>\n",
              "      <td>0.00</td>\n",
              "    </tr>\n",
              "    <tr>\n",
              "      <th>Quantity</th>\n",
              "      <td>0.0</td>\n",
              "      <td>0.00</td>\n",
              "    </tr>\n",
              "    <tr>\n",
              "      <th>Fee</th>\n",
              "      <td>12663.0</td>\n",
              "      <td>0.84</td>\n",
              "    </tr>\n",
              "    <tr>\n",
              "      <th>State</th>\n",
              "      <td>0.0</td>\n",
              "      <td>0.00</td>\n",
              "    </tr>\n",
              "    <tr>\n",
              "      <th>VideoAmt</th>\n",
              "      <td>14419.0</td>\n",
              "      <td>0.96</td>\n",
              "    </tr>\n",
              "    <tr>\n",
              "      <th>PhotoAmt</th>\n",
              "      <td>341.0</td>\n",
              "      <td>0.02</td>\n",
              "    </tr>\n",
              "    <tr>\n",
              "      <th>AdoptionSpeed</th>\n",
              "      <td>410.0</td>\n",
              "      <td>0.03</td>\n",
              "    </tr>\n",
              "  </tbody>\n",
              "</table>\n",
              "</div>\n",
              "      <button class=\"colab-df-convert\" onclick=\"convertToInteractive('df-aff2193d-7309-4934-b103-0fbb944385b6')\"\n",
              "              title=\"Convert this dataframe to an interactive table.\"\n",
              "              style=\"display:none;\">\n",
              "        \n",
              "  <svg xmlns=\"http://www.w3.org/2000/svg\" height=\"24px\"viewBox=\"0 0 24 24\"\n",
              "       width=\"24px\">\n",
              "    <path d=\"M0 0h24v24H0V0z\" fill=\"none\"/>\n",
              "    <path d=\"M18.56 5.44l.94 2.06.94-2.06 2.06-.94-2.06-.94-.94-2.06-.94 2.06-2.06.94zm-11 1L8.5 8.5l.94-2.06 2.06-.94-2.06-.94L8.5 2.5l-.94 2.06-2.06.94zm10 10l.94 2.06.94-2.06 2.06-.94-2.06-.94-.94-2.06-.94 2.06-2.06.94z\"/><path d=\"M17.41 7.96l-1.37-1.37c-.4-.4-.92-.59-1.43-.59-.52 0-1.04.2-1.43.59L10.3 9.45l-7.72 7.72c-.78.78-.78 2.05 0 2.83L4 21.41c.39.39.9.59 1.41.59.51 0 1.02-.2 1.41-.59l7.78-7.78 2.81-2.81c.8-.78.8-2.07 0-2.86zM5.41 20L4 18.59l7.72-7.72 1.47 1.35L5.41 20z\"/>\n",
              "  </svg>\n",
              "      </button>\n",
              "      \n",
              "  <style>\n",
              "    .colab-df-container {\n",
              "      display:flex;\n",
              "      flex-wrap:wrap;\n",
              "      gap: 12px;\n",
              "    }\n",
              "\n",
              "    .colab-df-convert {\n",
              "      background-color: #E8F0FE;\n",
              "      border: none;\n",
              "      border-radius: 50%;\n",
              "      cursor: pointer;\n",
              "      display: none;\n",
              "      fill: #1967D2;\n",
              "      height: 32px;\n",
              "      padding: 0 0 0 0;\n",
              "      width: 32px;\n",
              "    }\n",
              "\n",
              "    .colab-df-convert:hover {\n",
              "      background-color: #E2EBFA;\n",
              "      box-shadow: 0px 1px 2px rgba(60, 64, 67, 0.3), 0px 1px 3px 1px rgba(60, 64, 67, 0.15);\n",
              "      fill: #174EA6;\n",
              "    }\n",
              "\n",
              "    [theme=dark] .colab-df-convert {\n",
              "      background-color: #3B4455;\n",
              "      fill: #D2E3FC;\n",
              "    }\n",
              "\n",
              "    [theme=dark] .colab-df-convert:hover {\n",
              "      background-color: #434B5C;\n",
              "      box-shadow: 0px 1px 3px 1px rgba(0, 0, 0, 0.15);\n",
              "      filter: drop-shadow(0px 1px 2px rgba(0, 0, 0, 0.3));\n",
              "      fill: #FFFFFF;\n",
              "    }\n",
              "  </style>\n",
              "\n",
              "      <script>\n",
              "        const buttonEl =\n",
              "          document.querySelector('#df-aff2193d-7309-4934-b103-0fbb944385b6 button.colab-df-convert');\n",
              "        buttonEl.style.display =\n",
              "          google.colab.kernel.accessAllowed ? 'block' : 'none';\n",
              "\n",
              "        async function convertToInteractive(key) {\n",
              "          const element = document.querySelector('#df-aff2193d-7309-4934-b103-0fbb944385b6');\n",
              "          const dataTable =\n",
              "            await google.colab.kernel.invokeFunction('convertToInteractive',\n",
              "                                                     [key], {});\n",
              "          if (!dataTable) return;\n",
              "\n",
              "          const docLinkHtml = 'Like what you see? Visit the ' +\n",
              "            '<a target=\"_blank\" href=https://colab.research.google.com/notebooks/data_table.ipynb>data table notebook</a>'\n",
              "            + ' to learn more about interactive tables.';\n",
              "          element.innerHTML = '';\n",
              "          dataTable['output_type'] = 'display_data';\n",
              "          await google.colab.output.renderOutput(dataTable, element);\n",
              "          const docLink = document.createElement('div');\n",
              "          docLink.innerHTML = docLinkHtml;\n",
              "          element.appendChild(docLink);\n",
              "        }\n",
              "      </script>\n",
              "    </div>\n",
              "  </div>\n",
              "  "
            ],
            "text/plain": [
              "                     0     1\n",
              "Type               0.0  0.00\n",
              "Age              179.0  0.01\n",
              "Breed1             5.0  0.00\n",
              "Gender             0.0  0.00\n",
              "Color1             0.0  0.00\n",
              "Color2          4471.0  0.30\n",
              "MaturitySize       0.0  0.00\n",
              "FurLength          0.0  0.00\n",
              "Vaccinated         0.0  0.00\n",
              "Dewormed           0.0  0.00\n",
              "Sterilized         0.0  0.00\n",
              "Health             0.0  0.00\n",
              "Quantity           0.0  0.00\n",
              "Fee            12663.0  0.84\n",
              "State              0.0  0.00\n",
              "VideoAmt       14419.0  0.96\n",
              "PhotoAmt         341.0  0.02\n",
              "AdoptionSpeed    410.0  0.03"
            ]
          },
          "metadata": {},
          "execution_count": 46
        }
      ]
    },
    {
      "cell_type": "code",
      "source": [
        "train.drop([\"Breed2\", \"Color3\"], axis = 1, inplace = True)"
      ],
      "metadata": {
        "id": "6AWyQji6_xhn"
      },
      "execution_count": null,
      "outputs": []
    },
    {
      "cell_type": "markdown",
      "source": [
        "## Categoricas"
      ],
      "metadata": {
        "id": "uh-unL7YY3ph"
      }
    },
    {
      "cell_type": "markdown",
      "source": [
        "Mirando las variables no numericas, vemos que las mayúsculas podrían ser un problema, por lo que las transformamos a minúsculas y vemos si cambian las counts. De mínima hacemos esto por los nombres, eventualmente las descripciones las vamos a tokenizar."
      ],
      "metadata": {
        "id": "5dMXvBrfQnbK"
      }
    },
    {
      "cell_type": "code",
      "source": [
        "(\n",
        "train\n",
        "    .describe(include=\"object\")\n",
        "    .transpose()\n",
        ")\n"
      ],
      "metadata": {
        "colab": {
          "base_uri": "https://localhost:8080/",
          "height": 175
        },
        "id": "Frd9Z9MuODCK",
        "outputId": "f3e427bc-1133-4299-d02e-4f022de4557a"
      },
      "execution_count": null,
      "outputs": [
        {
          "output_type": "execute_result",
          "data": {
            "application/vnd.google.colaboratory.module+javascript": "\n      import \"https://ssl.gstatic.com/colaboratory/data_table/81f25a011006ed3d/data_table.js\";\n\n      window.createDataTable({\n        data: [[\"Name\",\n{\n            'v': 13736,\n            'f': \"13736\",\n        },\n{\n            'v': 9060,\n            'f': \"9060\",\n        },\n\"Baby\",\n{\n            'v': 66,\n            'f': \"66\",\n        }],\n [\"RescuerID\",\n{\n            'v': 14993,\n            'f': \"14993\",\n        },\n{\n            'v': 5595,\n            'f': \"5595\",\n        },\n\"fa90fa5b1ee11c86938398b60abc32cb\",\n{\n            'v': 459,\n            'f': \"459\",\n        }],\n [\"Description\",\n{\n            'v': 14981,\n            'f': \"14981\",\n        },\n{\n            'v': 14032,\n            'f': \"14032\",\n        },\n\"For Adoption\",\n{\n            'v': 164,\n            'f': \"164\",\n        }],\n [\"PetID\",\n{\n            'v': 14993,\n            'f': \"14993\",\n        },\n{\n            'v': 14993,\n            'f': \"14993\",\n        },\n\"86e1089a3\",\n{\n            'v': 1,\n            'f': \"1\",\n        }]],\n        columns: [[\"string\", \"index\"], [\"number\", \"count\"], [\"number\", \"unique\"], [\"string\", \"top\"], [\"number\", \"freq\"]],\n        columnOptions: [{\"width\": \"1px\", \"className\": \"index_column\"}],\n        rowsPerPage: 25,\n        helpUrl: \"https://colab.research.google.com/notebooks/data_table.ipynb\",\n        suppressOutputScrolling: true,\n        minimumWidth: undefined,\n      });\n    ",
            "text/html": [
              "\n",
              "  <div id=\"df-808e61d8-b0f3-402f-b167-e39be9efc7ac\">\n",
              "    <div class=\"colab-df-container\">\n",
              "      <div>\n",
              "<style scoped>\n",
              "    .dataframe tbody tr th:only-of-type {\n",
              "        vertical-align: middle;\n",
              "    }\n",
              "\n",
              "    .dataframe tbody tr th {\n",
              "        vertical-align: top;\n",
              "    }\n",
              "\n",
              "    .dataframe thead th {\n",
              "        text-align: right;\n",
              "    }\n",
              "</style>\n",
              "<table border=\"1\" class=\"dataframe\">\n",
              "  <thead>\n",
              "    <tr style=\"text-align: right;\">\n",
              "      <th></th>\n",
              "      <th>count</th>\n",
              "      <th>unique</th>\n",
              "      <th>top</th>\n",
              "      <th>freq</th>\n",
              "    </tr>\n",
              "  </thead>\n",
              "  <tbody>\n",
              "    <tr>\n",
              "      <th>Name</th>\n",
              "      <td>13736</td>\n",
              "      <td>9060</td>\n",
              "      <td>Baby</td>\n",
              "      <td>66</td>\n",
              "    </tr>\n",
              "    <tr>\n",
              "      <th>RescuerID</th>\n",
              "      <td>14993</td>\n",
              "      <td>5595</td>\n",
              "      <td>fa90fa5b1ee11c86938398b60abc32cb</td>\n",
              "      <td>459</td>\n",
              "    </tr>\n",
              "    <tr>\n",
              "      <th>Description</th>\n",
              "      <td>14981</td>\n",
              "      <td>14032</td>\n",
              "      <td>For Adoption</td>\n",
              "      <td>164</td>\n",
              "    </tr>\n",
              "    <tr>\n",
              "      <th>PetID</th>\n",
              "      <td>14993</td>\n",
              "      <td>14993</td>\n",
              "      <td>86e1089a3</td>\n",
              "      <td>1</td>\n",
              "    </tr>\n",
              "  </tbody>\n",
              "</table>\n",
              "</div>\n",
              "      <button class=\"colab-df-convert\" onclick=\"convertToInteractive('df-808e61d8-b0f3-402f-b167-e39be9efc7ac')\"\n",
              "              title=\"Convert this dataframe to an interactive table.\"\n",
              "              style=\"display:none;\">\n",
              "        \n",
              "  <svg xmlns=\"http://www.w3.org/2000/svg\" height=\"24px\"viewBox=\"0 0 24 24\"\n",
              "       width=\"24px\">\n",
              "    <path d=\"M0 0h24v24H0V0z\" fill=\"none\"/>\n",
              "    <path d=\"M18.56 5.44l.94 2.06.94-2.06 2.06-.94-2.06-.94-.94-2.06-.94 2.06-2.06.94zm-11 1L8.5 8.5l.94-2.06 2.06-.94-2.06-.94L8.5 2.5l-.94 2.06-2.06.94zm10 10l.94 2.06.94-2.06 2.06-.94-2.06-.94-.94-2.06-.94 2.06-2.06.94z\"/><path d=\"M17.41 7.96l-1.37-1.37c-.4-.4-.92-.59-1.43-.59-.52 0-1.04.2-1.43.59L10.3 9.45l-7.72 7.72c-.78.78-.78 2.05 0 2.83L4 21.41c.39.39.9.59 1.41.59.51 0 1.02-.2 1.41-.59l7.78-7.78 2.81-2.81c.8-.78.8-2.07 0-2.86zM5.41 20L4 18.59l7.72-7.72 1.47 1.35L5.41 20z\"/>\n",
              "  </svg>\n",
              "      </button>\n",
              "      \n",
              "  <style>\n",
              "    .colab-df-container {\n",
              "      display:flex;\n",
              "      flex-wrap:wrap;\n",
              "      gap: 12px;\n",
              "    }\n",
              "\n",
              "    .colab-df-convert {\n",
              "      background-color: #E8F0FE;\n",
              "      border: none;\n",
              "      border-radius: 50%;\n",
              "      cursor: pointer;\n",
              "      display: none;\n",
              "      fill: #1967D2;\n",
              "      height: 32px;\n",
              "      padding: 0 0 0 0;\n",
              "      width: 32px;\n",
              "    }\n",
              "\n",
              "    .colab-df-convert:hover {\n",
              "      background-color: #E2EBFA;\n",
              "      box-shadow: 0px 1px 2px rgba(60, 64, 67, 0.3), 0px 1px 3px 1px rgba(60, 64, 67, 0.15);\n",
              "      fill: #174EA6;\n",
              "    }\n",
              "\n",
              "    [theme=dark] .colab-df-convert {\n",
              "      background-color: #3B4455;\n",
              "      fill: #D2E3FC;\n",
              "    }\n",
              "\n",
              "    [theme=dark] .colab-df-convert:hover {\n",
              "      background-color: #434B5C;\n",
              "      box-shadow: 0px 1px 3px 1px rgba(0, 0, 0, 0.15);\n",
              "      filter: drop-shadow(0px 1px 2px rgba(0, 0, 0, 0.3));\n",
              "      fill: #FFFFFF;\n",
              "    }\n",
              "  </style>\n",
              "\n",
              "      <script>\n",
              "        const buttonEl =\n",
              "          document.querySelector('#df-808e61d8-b0f3-402f-b167-e39be9efc7ac button.colab-df-convert');\n",
              "        buttonEl.style.display =\n",
              "          google.colab.kernel.accessAllowed ? 'block' : 'none';\n",
              "\n",
              "        async function convertToInteractive(key) {\n",
              "          const element = document.querySelector('#df-808e61d8-b0f3-402f-b167-e39be9efc7ac');\n",
              "          const dataTable =\n",
              "            await google.colab.kernel.invokeFunction('convertToInteractive',\n",
              "                                                     [key], {});\n",
              "          if (!dataTable) return;\n",
              "\n",
              "          const docLinkHtml = 'Like what you see? Visit the ' +\n",
              "            '<a target=\"_blank\" href=https://colab.research.google.com/notebooks/data_table.ipynb>data table notebook</a>'\n",
              "            + ' to learn more about interactive tables.';\n",
              "          element.innerHTML = '';\n",
              "          dataTable['output_type'] = 'display_data';\n",
              "          await google.colab.output.renderOutput(dataTable, element);\n",
              "          const docLink = document.createElement('div');\n",
              "          docLink.innerHTML = docLinkHtml;\n",
              "          element.appendChild(docLink);\n",
              "        }\n",
              "      </script>\n",
              "    </div>\n",
              "  </div>\n",
              "  "
            ],
            "text/plain": [
              "             count unique                               top freq\n",
              "Name         13736   9060                              Baby   66\n",
              "RescuerID    14993   5595  fa90fa5b1ee11c86938398b60abc32cb  459\n",
              "Description  14981  14032                      For Adoption  164\n",
              "PetID        14993  14993                         86e1089a3    1"
            ]
          },
          "metadata": {},
          "execution_count": 12
        }
      ]
    },
    {
      "cell_type": "code",
      "source": [
        "train = (train\n",
        "         .applymap(lambda s: s.lower() if type(s) == str else s)\n",
        " )\n",
        "\n",
        "train.describe(include = \"object\").transpose()\n"
      ],
      "metadata": {
        "colab": {
          "base_uri": "https://localhost:8080/",
          "height": 175
        },
        "id": "BQGoIshYQUXB",
        "outputId": "423a2231-756e-46db-8d4c-297ad4f254d1"
      },
      "execution_count": null,
      "outputs": [
        {
          "output_type": "execute_result",
          "data": {
            "application/vnd.google.colaboratory.module+javascript": "\n      import \"https://ssl.gstatic.com/colaboratory/data_table/81f25a011006ed3d/data_table.js\";\n\n      window.createDataTable({\n        data: [[\"Name\",\n{\n            'v': 13736,\n            'f': \"13736\",\n        },\n{\n            'v': 8846,\n            'f': \"8846\",\n        },\n\"baby\",\n{\n            'v': 67,\n            'f': \"67\",\n        }],\n [\"RescuerID\",\n{\n            'v': 14993,\n            'f': \"14993\",\n        },\n{\n            'v': 5595,\n            'f': \"5595\",\n        },\n\"fa90fa5b1ee11c86938398b60abc32cb\",\n{\n            'v': 459,\n            'f': \"459\",\n        }],\n [\"Description\",\n{\n            'v': 14981,\n            'f': \"14981\",\n        },\n{\n            'v': 14011,\n            'f': \"14011\",\n        },\n\"for adoption\",\n{\n            'v': 185,\n            'f': \"185\",\n        }],\n [\"PetID\",\n{\n            'v': 14993,\n            'f': \"14993\",\n        },\n{\n            'v': 14993,\n            'f': \"14993\",\n        },\n\"86e1089a3\",\n{\n            'v': 1,\n            'f': \"1\",\n        }]],\n        columns: [[\"string\", \"index\"], [\"number\", \"count\"], [\"number\", \"unique\"], [\"string\", \"top\"], [\"number\", \"freq\"]],\n        columnOptions: [{\"width\": \"1px\", \"className\": \"index_column\"}],\n        rowsPerPage: 25,\n        helpUrl: \"https://colab.research.google.com/notebooks/data_table.ipynb\",\n        suppressOutputScrolling: true,\n        minimumWidth: undefined,\n      });\n    ",
            "text/html": [
              "\n",
              "  <div id=\"df-af175e61-d201-4331-ae30-d9defa8d5198\">\n",
              "    <div class=\"colab-df-container\">\n",
              "      <div>\n",
              "<style scoped>\n",
              "    .dataframe tbody tr th:only-of-type {\n",
              "        vertical-align: middle;\n",
              "    }\n",
              "\n",
              "    .dataframe tbody tr th {\n",
              "        vertical-align: top;\n",
              "    }\n",
              "\n",
              "    .dataframe thead th {\n",
              "        text-align: right;\n",
              "    }\n",
              "</style>\n",
              "<table border=\"1\" class=\"dataframe\">\n",
              "  <thead>\n",
              "    <tr style=\"text-align: right;\">\n",
              "      <th></th>\n",
              "      <th>count</th>\n",
              "      <th>unique</th>\n",
              "      <th>top</th>\n",
              "      <th>freq</th>\n",
              "    </tr>\n",
              "  </thead>\n",
              "  <tbody>\n",
              "    <tr>\n",
              "      <th>Name</th>\n",
              "      <td>13736</td>\n",
              "      <td>8846</td>\n",
              "      <td>baby</td>\n",
              "      <td>67</td>\n",
              "    </tr>\n",
              "    <tr>\n",
              "      <th>RescuerID</th>\n",
              "      <td>14993</td>\n",
              "      <td>5595</td>\n",
              "      <td>fa90fa5b1ee11c86938398b60abc32cb</td>\n",
              "      <td>459</td>\n",
              "    </tr>\n",
              "    <tr>\n",
              "      <th>Description</th>\n",
              "      <td>14981</td>\n",
              "      <td>14011</td>\n",
              "      <td>for adoption</td>\n",
              "      <td>185</td>\n",
              "    </tr>\n",
              "    <tr>\n",
              "      <th>PetID</th>\n",
              "      <td>14993</td>\n",
              "      <td>14993</td>\n",
              "      <td>86e1089a3</td>\n",
              "      <td>1</td>\n",
              "    </tr>\n",
              "  </tbody>\n",
              "</table>\n",
              "</div>\n",
              "      <button class=\"colab-df-convert\" onclick=\"convertToInteractive('df-af175e61-d201-4331-ae30-d9defa8d5198')\"\n",
              "              title=\"Convert this dataframe to an interactive table.\"\n",
              "              style=\"display:none;\">\n",
              "        \n",
              "  <svg xmlns=\"http://www.w3.org/2000/svg\" height=\"24px\"viewBox=\"0 0 24 24\"\n",
              "       width=\"24px\">\n",
              "    <path d=\"M0 0h24v24H0V0z\" fill=\"none\"/>\n",
              "    <path d=\"M18.56 5.44l.94 2.06.94-2.06 2.06-.94-2.06-.94-.94-2.06-.94 2.06-2.06.94zm-11 1L8.5 8.5l.94-2.06 2.06-.94-2.06-.94L8.5 2.5l-.94 2.06-2.06.94zm10 10l.94 2.06.94-2.06 2.06-.94-2.06-.94-.94-2.06-.94 2.06-2.06.94z\"/><path d=\"M17.41 7.96l-1.37-1.37c-.4-.4-.92-.59-1.43-.59-.52 0-1.04.2-1.43.59L10.3 9.45l-7.72 7.72c-.78.78-.78 2.05 0 2.83L4 21.41c.39.39.9.59 1.41.59.51 0 1.02-.2 1.41-.59l7.78-7.78 2.81-2.81c.8-.78.8-2.07 0-2.86zM5.41 20L4 18.59l7.72-7.72 1.47 1.35L5.41 20z\"/>\n",
              "  </svg>\n",
              "      </button>\n",
              "      \n",
              "  <style>\n",
              "    .colab-df-container {\n",
              "      display:flex;\n",
              "      flex-wrap:wrap;\n",
              "      gap: 12px;\n",
              "    }\n",
              "\n",
              "    .colab-df-convert {\n",
              "      background-color: #E8F0FE;\n",
              "      border: none;\n",
              "      border-radius: 50%;\n",
              "      cursor: pointer;\n",
              "      display: none;\n",
              "      fill: #1967D2;\n",
              "      height: 32px;\n",
              "      padding: 0 0 0 0;\n",
              "      width: 32px;\n",
              "    }\n",
              "\n",
              "    .colab-df-convert:hover {\n",
              "      background-color: #E2EBFA;\n",
              "      box-shadow: 0px 1px 2px rgba(60, 64, 67, 0.3), 0px 1px 3px 1px rgba(60, 64, 67, 0.15);\n",
              "      fill: #174EA6;\n",
              "    }\n",
              "\n",
              "    [theme=dark] .colab-df-convert {\n",
              "      background-color: #3B4455;\n",
              "      fill: #D2E3FC;\n",
              "    }\n",
              "\n",
              "    [theme=dark] .colab-df-convert:hover {\n",
              "      background-color: #434B5C;\n",
              "      box-shadow: 0px 1px 3px 1px rgba(0, 0, 0, 0.15);\n",
              "      filter: drop-shadow(0px 1px 2px rgba(0, 0, 0, 0.3));\n",
              "      fill: #FFFFFF;\n",
              "    }\n",
              "  </style>\n",
              "\n",
              "      <script>\n",
              "        const buttonEl =\n",
              "          document.querySelector('#df-af175e61-d201-4331-ae30-d9defa8d5198 button.colab-df-convert');\n",
              "        buttonEl.style.display =\n",
              "          google.colab.kernel.accessAllowed ? 'block' : 'none';\n",
              "\n",
              "        async function convertToInteractive(key) {\n",
              "          const element = document.querySelector('#df-af175e61-d201-4331-ae30-d9defa8d5198');\n",
              "          const dataTable =\n",
              "            await google.colab.kernel.invokeFunction('convertToInteractive',\n",
              "                                                     [key], {});\n",
              "          if (!dataTable) return;\n",
              "\n",
              "          const docLinkHtml = 'Like what you see? Visit the ' +\n",
              "            '<a target=\"_blank\" href=https://colab.research.google.com/notebooks/data_table.ipynb>data table notebook</a>'\n",
              "            + ' to learn more about interactive tables.';\n",
              "          element.innerHTML = '';\n",
              "          dataTable['output_type'] = 'display_data';\n",
              "          await google.colab.output.renderOutput(dataTable, element);\n",
              "          const docLink = document.createElement('div');\n",
              "          docLink.innerHTML = docLinkHtml;\n",
              "          element.appendChild(docLink);\n",
              "        }\n",
              "      </script>\n",
              "    </div>\n",
              "  </div>\n",
              "  "
            ],
            "text/plain": [
              "             count unique                               top freq\n",
              "Name         13736   8846                              baby   67\n",
              "RescuerID    14993   5595  fa90fa5b1ee11c86938398b60abc32cb  459\n",
              "Description  14981  14011                      for adoption  185\n",
              "PetID        14993  14993                         86e1089a3    1"
            ]
          },
          "metadata": {},
          "execution_count": 25
        }
      ]
    },
    {
      "cell_type": "markdown",
      "source": [
        "## RescuerID"
      ],
      "metadata": {
        "id": "gMsby1ur9gXF"
      }
    },
    {
      "cell_type": "markdown",
      "source": [
        "Alta cardinalidad, pero quiza haya informacion util aca..."
      ],
      "metadata": {
        "id": "2XitQyQK_VXU"
      }
    },
    {
      "cell_type": "code",
      "source": [
        "sum((train[\"RescuerID\"]\n",
        ".value_counts()) <= 3)"
      ],
      "metadata": {
        "colab": {
          "base_uri": "https://localhost:8080/"
        },
        "id": "bdXT0bTu9j0Z",
        "outputId": "4be4cf6e-5ebe-4064-f81b-d785b2cedc70"
      },
      "execution_count": null,
      "outputs": [
        {
          "output_type": "execute_result",
          "data": {
            "text/plain": [
              "4909"
            ]
          },
          "metadata": {},
          "execution_count": 45
        }
      ]
    }
  ]
}